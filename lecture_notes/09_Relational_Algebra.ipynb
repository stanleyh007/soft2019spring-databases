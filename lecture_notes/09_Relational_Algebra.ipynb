{
 "cells": [
  {
   "cell_type": "markdown",
   "metadata": {
    "slideshow": {
     "slide_type": "slide"
    }
   },
   "source": [
    "# Relational algebra & Query optimizations\n"
   ]
  },
  {
   "cell_type": "markdown",
   "metadata": {
    "slideshow": {
     "slide_type": "slide"
    }
   },
   "source": [
    "# Writing formulas\n",
    "\n",
    "$R\\, ⟕\\, S = (R \\bowtie S) \\cup ((R - \\pi_{r_1, r_2, \\dots, r_n}(R \\bowtie S)) \\times \\{(\\omega, \\dots \\omega)\\}$"
   ]
  },
  {
   "cell_type": "markdown",
   "metadata": {
    "slideshow": {
     "slide_type": "fragment"
    }
   },
   "source": [
    "There is one answer which is dominant: \n",
    "## $\\LaTeX$"
   ]
  },
  {
   "cell_type": "markdown",
   "metadata": {
    "slideshow": {
     "slide_type": "fragment"
    }
   },
   "source": [
    "#### Can be used in Jupyter notebooks\n",
    "#### Can be used in markdown (sort of)\n",
    "#### Can be used in ... many different markdown dialects"
   ]
  },
  {
   "cell_type": "markdown",
   "metadata": {
    "slideshow": {
     "slide_type": "slide"
    }
   },
   "source": [
    "# Directly in markdown\n",
    "This is a Hack!!!\n",
    "\n",
    "But it works: `<img src=\"https://latex.codecogs.com/svg.latex?y=\\frac{-b\\pm\\sqrt{b^2-4ac}}{2a}\"/>`\n",
    "\n",
    "<img src=\"https://latex.codecogs.com/svg.latex?y=\\frac{-b\\pm\\sqrt{b^2-4ac}}{2a}\"/>\n",
    "\n",
    "\n",
    "Well, it works until `codecogs.com` decide to close down."
   ]
  },
  {
   "cell_type": "markdown",
   "metadata": {
    "slideshow": {
     "slide_type": "fragment"
    }
   },
   "source": [
    "# Supported in Jupyter \n",
    "\n",
    "You enclose LaTeX between two `$` signs:\n",
    "\n",
    "`$y=\\frac{-b\\pm\\sqrt{b^2-4ac}}{2a}$`\n",
    "\n",
    "$y=\\frac{-b \\pm \\sqrt{ b^2 - 4ac }}{2a}$"
   ]
  },
  {
   "cell_type": "markdown",
   "metadata": {
    "slideshow": {
     "slide_type": "slide"
    }
   },
   "source": [
    "# Latex math crash course\n",
    "1. Linebreaks, space and tabs are ignored\n",
    "2. Superscript and Subscript are done using `^` and `_`. They both just set the next *character*\n",
    "3. Some useful commands are `\\times`, `\\sigma`, `\\rightarrow` ($\\times, \\sigma, \\rightarrow$).\n",
    "4. Commands are on the form: `\\foo` or `\\foo{arg1}{arg2}`. \n",
    "4. This page has a more complete [list of strange math symbols](https://www.overleaf.com/learn/latex/List_of_Greek_letters_and_math_symbols)\n",
    "5. If you need a list of [them all (omg)](https://www.rpi.edu/dept/arc/training/latex/LaTeX_symbols.pdf)\n",
    "6. I will summarize the one we need for relational algebra in the end.\n"
   ]
  },
  {
   "cell_type": "markdown",
   "metadata": {
    "slideshow": {
     "slide_type": "slide"
    }
   },
   "source": [
    "# Algebra\n",
    "An algebra consists of three things\n",
    "\n",
    "1. A set of objects (for example the natural numbers, characters, or relations)\n",
    "2. A set of operators on the objects \n",
    "3. A set of rules of equality between formulas over the operators"
   ]
  },
  {
   "cell_type": "markdown",
   "metadata": {
    "slideshow": {
     "slide_type": "slide"
    }
   },
   "source": [
    "## Part of the algebra of natural numbers\n",
    "1. All the numbers $0\\dotsb\\infty$\n",
    "2. Operators $+$ and $\\times$\n",
    "3. Rules like:\n",
    "    * $0+a=a$\n",
    "    * $1\\times a = a$\n",
    "    * $(a+b) = (b+a)$\n",
    "    * $a\\times(b+c) = a\\times b + a\\times c$\n",
    "    * $\\dotsb$"
   ]
  },
  {
   "cell_type": "markdown",
   "metadata": {
    "slideshow": {
     "slide_type": "slide"
    }
   },
   "source": [
    "## Part of the algebra of *regular expressions*\n",
    "1. All sequences of strings over an alphabet of letters (including the empty string $\\epsilon$ ) \n",
    "    * Forexample: `joe`, `aaabbbb`, ``.\n",
    "2. Operators: $·,|,\\ast$ *( normally you do not write the `·`, but the rules are without the explicit dot )*\n",
    "3. Rules like:\n",
    "    * $a|b = b|a$\n",
    "    * $a·(b|c) = a·b | a·c$\n",
    "    * $a·\\epsilon = a$\n",
    "    * $\\dotsb$\n",
    "    \n"
   ]
  },
  {
   "cell_type": "markdown",
   "metadata": {
    "slideshow": {
     "slide_type": "slide"
    }
   },
   "source": [
    "# Algebra of relations\n",
    "\n",
    "The objects are tables as we know them from SQL. There are a few differences though:\n",
    "* Columns are not explicitly typed - Notice - just to confuse we some call columns *attributes* in relational algebra\n",
    "* There is no order to the columns\n",
    "* There cannot be duplicate rows\n",
    "\n",
    "<img src=\"images/alg01.png\" width=\"35%\"/>\n"
   ]
  },
  {
   "cell_type": "markdown",
   "metadata": {
    "slideshow": {
     "slide_type": "slide"
    }
   },
   "source": [
    "# A relation is a subset of the crossproduct of the column types.\n",
    "Each row $r$ in a table is an element (tuple) from the relation $R$.\n",
    "\n",
    "In the mathematical form: $r \\in R$ \n",
    "\n",
    "or written out: $(v_{0},v_{1},...,v_{n}) \\in D_{0} \\times D_{1} \\times D_{2} \\times ... \\times D_{n}$"
   ]
  },
  {
   "cell_type": "markdown",
   "metadata": {
    "slideshow": {
     "slide_type": "slide"
    }
   },
   "source": [
    "# Operators - Set operators\n",
    "\n",
    "These are not used a lot in SQL, but they are necessary in the algebra.\n",
    "\n",
    "#### Union (foreningsmængde)\n",
    "$R\\cup S =$ <br>\n",
    "$\\{(x_1,x_2,\\dots,x_n)|(x_1,x_2,\\dots,x_n) \\in R \\vee  (x_1,x_2,\\dots,x_n)\\in S\\}$\n",
    "\n",
    "#### Intersection (fællesmængde)\n",
    "$R\\cap S =$<br>\n",
    "$\\{(x_1,x_2,\\dots,x_n)|(x_1,x_2,\\dots,x_n) \\in R \\wedge  (x_1,x_2,\\dots,x_n)\\in S\\}$\n",
    "\n",
    "\n",
    "![](http://cdn.virtualnerd.com/tutorials/Alg1_2t/assets/Alg1_2t_D_01_18.png)\n"
   ]
  },
  {
   "cell_type": "markdown",
   "metadata": {
    "slideshow": {
     "slide_type": "slide"
    }
   },
   "source": [
    "# Projection ($\\Pi$)\n",
    "\n",
    "A *projection* is a unary operation written as $\\Pi_{a_1, \\ldots,a_n}( R )$\n",
    "\n",
    "A projection keeps all the rows, but drops some of the columns/attributes (it only keeps those explicitly mentioned).\n",
    "\n",
    "In SQL  standard the projection is in the `select` part of the query.\n",
    "\n",
    "By default SQL returns a *multiset* instead of a set. The $\\Pi$ projection is obtained by the addition of the `SELECT DISTINCT`  keyword to eliminate duplicate data.\n",
    "\n",
    "<sub> In LaTeX the command to get the projection operator is `\\Pi`. </sub>"
   ]
  },
  {
   "cell_type": "markdown",
   "metadata": {
    "slideshow": {
     "slide_type": "slide"
    }
   },
   "source": [
    "More formally the semantics of projection are defined as follows:\n",
    "\n",
    "$\\Pi_{a_1, ...,a_n}( R ) = \\{  \\ t[a_1,...,a_n] : \\ t \\in R \\ \\}$\n",
    "\n",
    "where $t[a_1,...,a_n]$ is the restriction of the tuple $t$ to the set $\\{a_1,...,a_n\\}$ so that\n",
    "\n",
    "$t[a_1,...,a_n] = \\{ \\ ( a', v ) \\ | \\ ( a', v ) \\in t, \\ a' \\in \\{a_1,...,a_n \\} \\}$\n",
    "\n",
    "where $(a', v)$ is an attribute value, $a'$ is an attribute name, and $v$ is an element of that attribute's domain.\n",
    "\n",
    "The result of a projection $\\Pi_{a_1, ...,a_n}( R )$ is defined only if $\\{a_1,...,a_n\\}$ is a subset of the attributes of $R$."
   ]
  },
  {
   "cell_type": "markdown",
   "metadata": {
    "slideshow": {
     "slide_type": "slide"
    }
   },
   "source": [
    "# Selection $\\sigma$ \n",
    "A selection is a unary operation written as $\\sigma_\\varphi(R)$ where $\\varphi$ propositional formula.\n",
    "\n",
    "This selection selects all those tuples in $R$for which $\\varphi$ holds.\n",
    "\n",
    "$\\sigma_\\varphi(R) = \\{ \\ t : t \\in R| \\ \\varphi(t) \\ \\}$"
   ]
  },
  {
   "cell_type": "markdown",
   "metadata": {
    "slideshow": {
     "slide_type": "fragment"
    }
   },
   "source": [
    "All friends or business associates in an address book:<br>\n",
    "$\\sigma_{\\text{isFriend} \\,\\lor\\, \\text{isBusinessContact}}( \\text{addressBook} )$."
   ]
  },
  {
   "cell_type": "markdown",
   "metadata": {
    "slideshow": {
     "slide_type": "fragment"
    }
   },
   "source": [
    "#### WARNING\n",
    "In SQL **selection** is done in the `WHERE` part of the query.<br>\n",
    "<sub> In LaTeX the command to get the selection operator is `\\sigma`. </sub>\n"
   ]
  },
  {
   "cell_type": "markdown",
   "metadata": {
    "slideshow": {
     "slide_type": "slide"
    }
   },
   "source": [
    "# Rename $\\rho$\n",
    "A rename is a unary operation written as $\\rho_{a / b}(R)$<br>\n",
    "The result is identical to $R$ except that the $b$ attribute in all tuples is renamed to an $a$ attribute.\n",
    "\n",
    "Formally the semantics of the rename operator is defined as follows:\n",
    "\n",
    "$\\rho_{a/b}(R) = \\{ \\ t[a/b] : t \\in R \\ \\}$\n",
    "\n",
    "where $t[a/b]$ is defined as the tuple $t$ with the $b$ attribute renamed to $a$ so that:\n",
    "\n",
    "$t[a/b] = \\{ \\ (c: v) \\ | \\ ( c: v ) \\in t, \\ c \\ne b \\ \\} \\cup \\{ \\ (a: \\ t(b) ) \\ \\}$\n",
    "\n",
    "<sub> In LaTeX the command to get the selection operator is `\\rho`. </sub>"
   ]
  },
  {
   "cell_type": "markdown",
   "metadata": {
    "slideshow": {
     "slide_type": "slide"
    }
   },
   "source": [
    "Rename is mostly used as a helper operator to make some formulas easier to write."
   ]
  },
  {
   "cell_type": "markdown",
   "metadata": {
    "slideshow": {
     "slide_type": "slide"
    }
   },
   "source": [
    "### Summary 1 of $\\LaTeX$ commands for relational algebra\n",
    "|Command|result|\n",
    "|:----:|:----:|\n",
    "|`\\Pi` | $\\Pi$|\n",
    "|`\\sigma` | $\\sigma$|\n",
    "|`\\rho` | $\\rho$|\n",
    "|`\\cup` | $\\cup$|\n",
    "|`\\cap` | $\\cap$|\n",
    "|`\\vee` | $\\vee$|\n",
    "|`\\wedge` | $\\wedge$|\n",
    "|`\\in` | $\\in$|\n",
    "|`\\ne` | $\\ne$|\n",
    "\n",
    "See: http://www.cs.uleth.ca/~rice/latex/worksheet.pdf"
   ]
  },
  {
   "cell_type": "markdown",
   "metadata": {
    "slideshow": {
     "slide_type": "slide"
    }
   },
   "source": [
    "# Your turn:\n",
    "1. Find a way to write latex based formulas and to get them on github. \n",
    "\n",
    "2. Rewrite this query into relational algebra:\n",
    "```mysql\n",
    "SELECT customerName, city, salesRepEmployeeNumber as rep \n",
    "FROM classicmodels.customers\n",
    "WHERE creditLimit > 50000 AND country = 'France'\n",
    "```\n",
    "3. Put the result on github and make sure one of your fellow students are able to read it.\n"
   ]
  },
  {
   "cell_type": "markdown",
   "metadata": {
    "slideshow": {
     "slide_type": "slide"
    }
   },
   "source": [
    "$\\Pi_{custName,city, rep}(\\sigma_P(\\rho_{rep/salesRepEmployeeNumber}(customers)))$\n",
    "\n",
    "where $P=creditLimit>50000 \\wedge country='France'$\n",
    "\n",
    "<img src=\"https://latex.codecogs.com/svg.latex?\\Pi_{custName,city, rep}(\\sigma_P(\\rho_{rep/salesRepEmployeeNumber}(customers)))\"/>"
   ]
  },
  {
   "cell_type": "markdown",
   "metadata": {
    "slideshow": {
     "slide_type": "slide"
    }
   },
   "source": [
    "# Cross product of two tables\n",
    "Written $R\\times S$.\n",
    "\n",
    "Let $attr(X)$ be a function that returns the set of *attibutes* for the relation $X$.\n",
    "\n",
    "$attr(R\\times S) = attr(R) \\cup attr(S)$\n",
    "\n",
    "$T = R\\times S = \\{ (r_1,r_2,\\dots,r_n,s_1,s_2,\\dots,s_m)|$<br>\n",
    "   $\\qquad\\qquad\\qquad(r_1,r_2,\\dots,r_n) \\in R \\wedge (s_1,s_2,\\dots,s_m) \\in S\\}$\n"
   ]
  },
  {
   "cell_type": "markdown",
   "metadata": {
    "slideshow": {
     "slide_type": "slide"
    }
   },
   "source": [
    "# SQL cross product\n",
    "```mysql\n",
    "SELECT * FROM A CROSS JOIN B;\n",
    "```\n",
    "\n",
    "|   A   | B   | A $\\times$ B |\n",
    "|-------|-----|--------------|\n",
    "|![](images/alg03.png)|![](images/alg04.png)|![](images/alg05.png)|\n",
    "\n",
    "\n"
   ]
  },
  {
   "cell_type": "markdown",
   "metadata": {
    "slideshow": {
     "slide_type": "fragment"
    }
   },
   "source": [
    "Can also be written as:\n",
    "```mysql\n",
    "SELECT * FROM A,B;\n",
    "```"
   ]
  },
  {
   "cell_type": "markdown",
   "metadata": {
    "slideshow": {
     "slide_type": "slide"
    }
   },
   "source": [
    "# Natural join $\\bowtie$\n",
    "Natural join ($\\bowtie$) is a binary operator.\n",
    "\n",
    "Written as $R \\bowtie S$ \n",
    "\n",
    "The result of the natural join is the set of all combinations of tuples in $R$ and $S$ that are equal on their common attribute names. "
   ]
  },
  {
   "cell_type": "markdown",
   "metadata": {
    "slideshow": {
     "slide_type": "slide"
    }
   },
   "source": [
    "![](images/alg02.png)"
   ]
  },
  {
   "cell_type": "markdown",
   "metadata": {
    "slideshow": {
     "slide_type": "slide"
    }
   },
   "source": [
    "# Natural join formally\n",
    "Let $attr(X)$ be a function that returns the set of *attibutes* for the relation $X$.\n",
    "\n",
    "\n",
    "$R\\bowtie S = \\{t=(a_1,a_2,\\dots ,a_n, b_1,b_2,\\dots,b_n) \\in attr(R)\\cup attr(S) | COND\\}$\n",
    "\n",
    "where COND is:\n",
    "\n",
    "$t_i = a_j if a_j \\notin attr(S)$<br>\n",
    "$t_i = b_j if b_j \\notin attr(R)$<br>\n",
    "$t_i = a_j if a_j \\in attr(R) \\cap attr(S)$\n",
    "\n",
    "The join condition in natural join is *implicit*, namely those attributes/columns which exist in both tables."
   ]
  },
  {
   "cell_type": "markdown",
   "metadata": {
    "slideshow": {
     "slide_type": "slide"
    }
   },
   "source": [
    "# Natural join in SQL\n",
    "```mysql\n",
    "SELECT * FROM A NATURAL JOIN B;\n",
    "```\n",
    "(After I renamed a1 to b1 in table A)\n",
    "\n",
    "![](images/alg06.png)"
   ]
  },
  {
   "cell_type": "markdown",
   "metadata": {
    "slideshow": {
     "slide_type": "slide"
    }
   },
   "source": [
    "# Your turn\n",
    "Assume we have table A=(a,b,c) and table B=(x,y,z).\n",
    "\n",
    "Write a join of table A and B where you join those rows where a has the same value y. \n",
    "\n",
    "You should only use $\\Pi,\\sigma,\\rho,$ and $\\times$, that is - not use the join $\\bowtie$ directly.\n"
   ]
  },
  {
   "cell_type": "markdown",
   "metadata": {
    "slideshow": {
     "slide_type": "slide"
    }
   },
   "source": [
    "# Many more joins\n",
    "\n",
    "* θ-join and equijoin\n",
    "* Semijoin (⋉)(⋊)\n",
    "* Antijoin (▷)\n",
    "* Left outer join (⟕)\n",
    "* Right outer join (⟖)\n",
    "* Full outer join (⟗)\n",
    "\n",
    "\n"
   ]
  },
  {
   "cell_type": "markdown",
   "metadata": {
    "slideshow": {
     "slide_type": "slide"
    }
   },
   "source": [
    "# Full outer join (⟗)\n",
    "![](images/alg07.png)"
   ]
  },
  {
   "cell_type": "markdown",
   "metadata": {
    "slideshow": {
     "slide_type": "slide"
    }
   },
   "source": []
  },
  {
   "cell_type": "markdown",
   "metadata": {
    "slideshow": {
     "slide_type": "slide"
    }
   },
   "source": [
    "# Optimizations using relational algebra\n",
    "Transform expressions into equivalent expressions\n",
    "* where the size of the relations yielded by new expressions are smaller than before\n",
    "* find common sub-expressions\n"
   ]
  },
  {
   "cell_type": "markdown",
   "metadata": {
    "slideshow": {
     "slide_type": "fragment"
    }
   },
   "source": [
    "Consider this simple expression: $177·12-177·11 = 177·(12-11) = 177·1 = 177$\n"
   ]
  },
  {
   "cell_type": "markdown",
   "metadata": {
    "slideshow": {
     "slide_type": "slide"
    }
   },
   "source": [
    "### compilers also rewrite things for efficiency\n",
    "\n",
    "```java\n",
    "for(int i : myList){\n",
    "    int numberOfSmall = myList.filter{e -> e < 100}.count();\n",
    "    ... use i and numberOfSmall\n",
    "}\n",
    "```\n",
    "rewrites to (or can rewrite to):\n",
    "\n",
    "```java\n",
    "int numberOfSmall = myList.filter{e -> e < 100}.count();\n",
    "for(int i : myList){\n",
    "    ... use i and numberOfSmall\n",
    "}\n",
    "```\n"
   ]
  },
  {
   "cell_type": "markdown",
   "metadata": {
    "slideshow": {
     "slide_type": "slide"
    }
   },
   "source": [
    "# Selection \n",
    "\n",
    "is *idempotent* (multiple applications of the same selection have no additional effect beyond the first one), <br>\n",
    "and *commutative* (the order selections are applied in has no effect on the eventual result).\n",
    "\n",
    "1. $\\sigma_{A}(R)=\\sigma_{A}\\sigma_{A}(R)\\$\n",
    "\n",
    "2. $\\sigma_{A}\\sigma_{B}(R)=\\sigma_{B}\\sigma_{A}(R)$\n",
    "\n",
    "#### Remember: 'selection' is the `WHERE` clause"
   ]
  },
  {
   "cell_type": "markdown",
   "metadata": {
    "slideshow": {
     "slide_type": "slide"
    }
   },
   "source": [
    "# Breaking up selections with complex conditions\n",
    "\n",
    "Sometimes a complex condition can be broken into several simple ones:\n",
    "\n",
    "$\\sigma_{A \\land B}(R)=\\sigma_{A}(\\sigma_{B}(R))=\\sigma_{B}(\\sigma_{A}(R))$\n",
    "\n",
    "$\\sigma_{A \\lor B}(R)=\\sigma_{A}(R)\\cup\\sigma_{B}(R)$"
   ]
  },
  {
   "cell_type": "markdown",
   "metadata": {
    "slideshow": {
     "slide_type": "slide"
    }
   },
   "source": [
    "# Selection and cross product \n",
    "Cross product is the costliest operator to evaluate. \n",
    "\n",
    "If A and B have $N$ and $M$ rows, the result will contain $N·M$ rows. \n",
    "\n",
    "Often a product is followed by a selection operator, e.g. $\\sigma_{A}(R \\times P)$.\n",
    "\n",
    "Often the condition can be written as:  $A = A_R \\wedge A_P \\wedge A_{RP}$,\n",
    "\n",
    "where $A_R$ contains attributes only from $R$, $A_P$ contains attributes only from $P$, and $A_{RP}$ contains the part of $A$ that contains attributes from both $R$ and $P$. \n",
    "\n",
    "$\\sigma_{A}(R \\times P) = \\sigma_{A_R \\wedge A_P \\wedge A_{RP}}(R \\times P) = \\sigma_{A_{RP}}(\\sigma_{A_R}(R) \\times \\sigma_{A_P}(P))$\n"
   ]
  },
  {
   "cell_type": "markdown",
   "metadata": {
    "slideshow": {
     "slide_type": "slide"
    }
   },
   "source": [
    "# Selection and set operators \n",
    "\n",
    "* $\\sigma_{A}(R\\cup P)=\\sigma_{A}(R)\\cup\\sigma_{A}(P)$\n",
    "* $\\sigma_{A}(R\\cap P)=\\sigma_{A}(R)\\cap\\sigma_{A}(P)=\\sigma_{A}(R)\\cap P=R\\cap \\sigma_{A}(P)$\n",
    "* $\\sigma_{A}(R\\setminus P)=\\sigma_{A}(R)\\setminus \\sigma_{A}(P) =\\sigma_{A}(R)\\setminus P$\n",
    "\n",
    "#### Set operators are used often in queries"
   ]
  },
  {
   "cell_type": "markdown",
   "metadata": {
    "slideshow": {
     "slide_type": "slide"
    }
   },
   "source": [
    "Consider this query:\n",
    "```mysql\n",
    "SELECT \n",
    "    users.DisplayName as Name, \n",
    "    posts.Title as Title\n",
    "FROM posts inner join users on posts.OwnerUserId = users.Id\n",
    "where posts.PostTypeId=1;\n",
    "```\n",
    "A straight forward relational algebra expression is:\n",
    "\n",
    "$\\rho_{Name/p.Name}(\\rho_{Title/p.Title}($<br>\n",
    "$\\qquad\\qquad\\qquad\\sigma_{p.PostTypeId=1}(\\sigma_{p.OwnerUserId=u.Id}(posts\\times users))))$"
   ]
  },
  {
   "cell_type": "markdown",
   "metadata": {
    "slideshow": {
     "slide_type": "slide"
    }
   },
   "source": [
    "### A raw analysis\n",
    "$\\rho_{Name/p.DisplayName}(\\rho_{Title/p.Title}($<br>\n",
    "$\\qquad\\qquad\\qquad\\sigma_{p.PostTypeId=1}(\\sigma_{p.OwnerUserId=u.Id}(posts\\times users))))$\n",
    "\n",
    "There are 3167 rows in the posts table, and 5826 rowns in the users table.\n",
    "If we put the number of rows as super script we get:\n",
    "\n",
    "* $posts^{[3.167]}\\times users^{[5.826]}$\n",
    "* $posts^{[3167]}\\times users^{[5826]})^{[18.450.942]}$\n",
    "* $\\sigma_{p.OwnerUserId=u.Id}(...)^{[N]}$ - the actual number is 3114, but we \"know\" it to be less than 3167.\n",
    "* $\\sigma_{p.PostTypeId=1}(...)^{[M]}$ - the actual number is 998, but we just know it to be less than 3167\n",
    "    * We might know something more if the table have a clustered index on PostTypeId\n",
    "* The two renames we ignore for the moment\n",
    "\n",
    "The problem is that we need to build the huge cross product."
   ]
  },
  {
   "cell_type": "markdown",
   "metadata": {
    "slideshow": {
     "slide_type": "slide"
    }
   },
   "source": [
    "#### A slightly better one:\n",
    "$\\sigma_{p.OwnerUserId=u.Id}(\\sigma_{p.PostTypeId=1}(posts)\\times users))))$"
   ]
  },
  {
   "cell_type": "markdown",
   "metadata": {
    "slideshow": {
     "slide_type": "slide"
    }
   },
   "source": [
    "#### A new invention \n",
    "The (first time ever seen - new soft2019spring join operator $\\bowtie^{\\bullet}$ - join bullet (bulls eye).\n",
    "\n",
    "$A \\bowtie^{\\bullet} B$ means to do an *inner join using foreign key and primary key, both with index*.\n",
    "\n",
    "The cost of $A\\times B$ is $|A|·|B|$. \n",
    "\n",
    "However, the cost of $A \\bowtie^{\\bullet} B$ is $min(|A|, |B|)$\n",
    "\n",
    "We have the following rule ( $JC$ for *Join Condition* ):\n",
    "\n",
    "$\\sigma_{JC}(A\\times B) = A \\bowtie^{\\bullet}_{JC} B$  "
   ]
  },
  {
   "cell_type": "markdown",
   "metadata": {
    "slideshow": {
     "slide_type": "slide"
    }
   },
   "source": [
    "\n",
    "#### Optimal (I think)\n",
    "$\\sigma_{p.OwnerUserId=u.Id}(\\sigma_{p.PostTypeId=1}(posts) \\times users)$<br>\n",
    "$= \\sigma_{p.PostTypeId=1}(posts) \\bowtie^{\\bullet} users$\n",
    "\n",
    "with row numbers\n",
    "\n",
    "$\\sigma_{p.OwnerUserId=u.Id}( (\\sigma_{p.PostTypeId=1}(posts)^{[998]} \\times users^{[5.826]})^{[5.814.348]})^{[3114]})$<br>\n",
    "$= (\\sigma_{p.PostTypeId=1}(posts)^{[998]} \\bowtie^{\\bullet} users^{[998]})^{[998]}$\n"
   ]
  },
  {
   "cell_type": "markdown",
   "metadata": {
    "slideshow": {
     "slide_type": "slide"
    }
   },
   "source": [
    "\n",
    "# The clue\n",
    "\n",
    "The rewrite rules allow the sql engine to optimize.\n",
    "\n",
    "The relational algebra allow us to be sure that the rewrites produce the same result as the original."
   ]
  },
  {
   "cell_type": "markdown",
   "metadata": {},
   "source": [
    "# The one slide summary\n",
    "Relational algebra builds on three primary operators: $\\sigma, \\Pi$ and $\\times$.\n",
    "\n",
    "On top it also use $\\cup, \\cap, -$ and $\\rho$.\n",
    "\n",
    "Using these operators it define the $\\bowtie$ family of operators.\n",
    "\n",
    "The algebraic rules are used to *prove* that the rewrites done in query optimizations are **correct**."
   ]
  },
  {
   "cell_type": "markdown",
   "metadata": {
    "slideshow": {
     "slide_type": "slide"
    }
   },
   "source": [
    "# Your turn / Assignment\n"
   ]
  }
 ],
 "metadata": {
  "celltoolbar": "Slideshow",
  "kernelspec": {
   "display_name": "Python 3",
   "language": "python",
   "name": "python3"
  },
  "language_info": {
   "codemirror_mode": {
    "name": "ipython",
    "version": 3
   },
   "file_extension": ".py",
   "mimetype": "text/x-python",
   "name": "python",
   "nbconvert_exporter": "python",
   "pygments_lexer": "ipython3",
   "version": "3.7.1"
  }
 },
 "nbformat": 4,
 "nbformat_minor": 2
}
