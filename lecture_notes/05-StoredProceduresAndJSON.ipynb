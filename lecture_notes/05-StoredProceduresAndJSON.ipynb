{
 "cells": [
  {
   "cell_type": "markdown",
   "metadata": {
    "slideshow": {
     "slide_type": "slide"
    }
   },
   "source": [
    "# Follow up from last time\n",
    "It seemed like this one was \"easy\".\n",
    "\n",
    "A few general comments:\n",
    "\n",
    "* DROP USER IF EXISTS <br>\n",
    "    When to use it - always, or is it a sign of problems?\n",
    "* Users missing in the backup"
   ]
  },
  {
   "cell_type": "markdown",
   "metadata": {
    "slideshow": {
     "slide_type": "fragment"
    }
   },
   "source": [
    "* 3-2-1 backup (three copies, on two media, 1 off premise)"
   ]
  },
  {
   "cell_type": "markdown",
   "metadata": {
    "button": false,
    "new_sheet": false,
    "run_control": {
     "read_only": false
    },
    "slideshow": {
     "slide_type": "slide"
    }
   },
   "source": [
    "# Stored procedures, json"
   ]
  },
  {
   "cell_type": "markdown",
   "metadata": {
    "button": false,
    "new_sheet": false,
    "run_control": {
     "read_only": false
    },
    "slideshow": {
     "slide_type": "slide"
    }
   },
   "source": [
    "### Learning goals\n",
    "\n",
    "After this week, you should be able to:\n",
    "\n",
    "* Decide when to use stored procedures in your architecture\n",
    "* Be able to write stored procedures for MySQL\n",
    "* Be able to call stored procedures from client applications\n",
    "* Set up the permission system of MySQL so that the client applications can only modify through stored procedures\n",
    "* Set up triggers in MySQL that call stored procedures\n",
    "* Set up views and materialized views\n",
    "* Use simple MySQL JSON operators\n",
    "* Further investigate the json and document storage of MySQL\n"
   ]
  },
  {
   "cell_type": "markdown",
   "metadata": {
    "button": false,
    "new_sheet": false,
    "run_control": {
     "read_only": false
    },
    "slideshow": {
     "slide_type": "slide"
    }
   },
   "source": [
    "# Exercises (full text at the assignment page)\n",
    "\n",
    "Stackexhange data:\n",
    "https://archive.org/details/stackexchange.\n",
    "\n",
    "The programming stackexchange (stackoverflow) is about 40GB compressed XML - I guestimate around 100GB expanded.\n",
    "\n",
    "I suggest you use the two dataserts for \"coffee.stackexchange.com\" (small - for debugging purposes), and \"askubuntu.com\" which is around 700MB compressed - expands into 2GB XML.\n",
    "\n",
    "### Exercise 1\n",
    "Write a stored procedure `denormalizeComments(postID)` that moves all comments to a post (the parameter) into a json array.  \n",
    "\n",
    "### Exercise 2\n",
    "Create a trigger such that new adding new comments to a post triggers an insertion of that comment in the json array from exercise 1.\n",
    "\n",
    "### Exercise 3\n",
    "Rather than using a trigger, create a stored procedure to add a comment to a post - adding it both to the comment table and the json array\n",
    "\n",
    "### Exercise 4\n",
    "Make a materialized view that has json objects with questions and its answeres, but no comments. Both the question and each of the answers must have the display name of the user, the text body, and the score.\n",
    "\n",
    "### Exercise 5\n",
    "Using the materialized view, create a stored procedure with one parameter `keyword`, which returns all posts where the keyword appears at least once, and where at least two comments mention the keyword as well.\n"
   ]
  },
  {
   "cell_type": "code",
   "execution_count": 1,
   "metadata": {
    "button": false,
    "new_sheet": false,
    "run_control": {
     "read_only": false
    },
    "slideshow": {
     "slide_type": "skip"
    }
   },
   "outputs": [
    {
     "name": "stdout",
     "output_type": "stream",
     "text": [
      "CONTAINER ID        IMAGE                                        COMMAND                  CREATED             STATUS                      PORTS                    NAMES\r\n",
      "51c4fc29b149        docker-elk_logstash                          \"/usr/local/bin/dock…\"   3 months ago        Exited (0) 3 months ago                              docker-elk_logstash_1\r\n",
      "1a6ff808a1a0        docker-elk_kibana                            \"/usr/local/bin/kiba…\"   3 months ago        Exited (137) 3 months ago                            docker-elk_kibana_1\r\n",
      "a96344c8c8f2        docker-elk_elasticsearch                     \"/usr/local/bin/dock…\"   3 months ago        Exited (143) 3 months ago                            docker-elk_elasticsearch_1\r\n",
      "c7a93f52908f        mcr.microsoft.com/mssql/server:2017-latest   \"/opt/mssql/bin/sqls…\"   4 months ago        Exited (255) 4 months ago   0.0.0.0:1433->1433/tcp   sql1\r\n",
      "675dc1098171        appropriate/curl                             \"sh -c 'sleep 5 && c…\"   5 months ago        Exited (0) 5 months ago                              container_clidownload_1\r\n",
      "a21d8c32f9fd        sskeikomk/myserver                           \"/bin/sh -c ./basic_…\"   5 months ago        Exited (137) 5 months ago                            container_webserver_1\r\n",
      "eab3d641dcbf        4c649ce8f88d                                 \"/bin/sh -c 'curl -s…\"   5 months ago        Exited (0) 5 months ago                              client_1\r\n"
     ]
    }
   ],
   "source": [
    "!docker container ls -a"
   ]
  },
  {
   "cell_type": "code",
   "execution_count": 4,
   "metadata": {
    "button": false,
    "new_sheet": false,
    "run_control": {
     "read_only": false
    },
    "slideshow": {
     "slide_type": "skip"
    }
   },
   "outputs": [
    {
     "name": "stdout",
     "output_type": "stream",
     "text": [
      "a415534839b07c28e47ffa33b5b99feac03ef0bfc84314fad2303d13897d5a3d\n",
      "MySQLRunning\n"
     ]
    },
    {
     "name": "stderr",
     "output_type": "stream",
     "text": [
      "docker: Error response from daemon: driver failed programming external connectivity on endpoint my_mysql (636b228558bab27b93f6f3226002e509822cabcbf37d8db8b99b431c3a218a64): Error starting userland proxy: Bind for 0.0.0.0:3306 failed: port is already allocated.\n"
     ]
    }
   ],
   "source": [
    "%%bash\n",
    "docker run \\\n",
    "--rm \\\n",
    "--name my_mysql \\\n",
    "-v $(pwd)/mysql_databasefiles:/var/lib/mysql \\\n",
    "-p 3306:3306 \\\n",
    "-e MYSQL_ROOT_PASSWORD=1024Krystal \\\n",
    "-d \\\n",
    "mysql\n",
    "echo \"MySQLRunning\""
   ]
  },
  {
   "cell_type": "code",
   "execution_count": 5,
   "metadata": {
    "button": false,
    "new_sheet": false,
    "run_control": {
     "read_only": false
    },
    "slideshow": {
     "slide_type": "skip"
    }
   },
   "outputs": [
    {
     "name": "stderr",
     "output_type": "stream",
     "text": [
      "1045 (28000): Access denied for user 'root'@'localhost' (using password: YES)\n"
     ]
    },
    {
     "data": {
      "text/plain": [
       "'Done'"
      ]
     },
     "execution_count": 5,
     "metadata": {},
     "output_type": "execute_result"
    }
   ],
   "source": [
    "import sys\n",
    "import mysql.connector\n",
    "\n",
    "def rootconnect():\n",
    "    try:\n",
    "        pw = '1024Krystal'\n",
    "        conn = mysql.connector.connect( host='localhost', database='classicmodels',user='root', password=pw)\n",
    "        conn.autocommit = True\n",
    "        return conn;\n",
    "    except Exception as ex:\n",
    "        print(str(ex), file=sys.stderr)\n",
    "    \n",
    "\n",
    "conn = rootconnect()\n",
    "\n",
    "def sqlQuery(sqlString):\n",
    "    global conn\n",
    "    try:\n",
    "        if not conn.is_connected():\n",
    "            conn = rootconnect()\n",
    "        cursor = conn.cursor()\n",
    "        cursor.execute(sqlString)\n",
    "        res = cursor.fetchall()\n",
    "        return res\n",
    "    except Exception as ex:\n",
    "        print(str(ex), file=sys.stderr)\n",
    "    finally:    \n",
    "        cursor.close()\n",
    "\n",
    "def sqlDo(sqlString):\n",
    "    global conn\n",
    "    try:\n",
    "        if not conn.is_connected():\n",
    "            conn = rootconnect()\n",
    "        cursor = conn.cursor()\n",
    "        cursor.execute(sqlString)\n",
    "        res = cursor.fetchwarnings()\n",
    "        return res\n",
    "    except Exception as ex:\n",
    "        print(str(ex), file=sys.stderr)\n",
    "    finally:    \n",
    "        cursor.close()\n",
    "\n",
    "\"Done\"    "
   ]
  },
  {
   "cell_type": "markdown",
   "metadata": {
    "button": false,
    "new_sheet": false,
    "run_control": {
     "read_only": false
    },
    "slideshow": {
     "slide_type": "slide"
    }
   },
   "source": [
    "## What is a stored procedure\n",
    "\n",
    "![](http://www.mysqltutorial.org/wp-content/uploads/2009/12/mysql-stored-procedure1.jpg)\n",
    "\n",
    "* The stored procedures are still connected to the database and is not running inside the kernel\n",
    "* Stored procedures are semi-standarized\n",
    "* What is the run-time of a stored procedure (stack, lifetime of global variable, connection to schemas)"
   ]
  },
  {
   "cell_type": "markdown",
   "metadata": {
    "button": false,
    "new_sheet": false,
    "run_control": {
     "read_only": false
    },
    "slideshow": {
     "slide_type": "subslide"
    }
   },
   "source": [
    "### Advantages\n",
    "\n",
    "* Stored procedures help **increase the performance** of the applications. However, MySQL stored procedures are compiled and cached (per connection).\n",
    "* Reduce the traffic between application and database server.\n",
    "* Reusable and transparent to any applications. \n",
    "* Stored procedures expose the database interface to all applications.\n",
    "* Stored procedures are secure. "
   ]
  },
  {
   "cell_type": "markdown",
   "metadata": {
    "button": false,
    "new_sheet": false,
    "run_control": {
     "read_only": false
    },
    "slideshow": {
     "slide_type": "subslide"
    }
   },
   "source": [
    "### Disadvanteges\n",
    "* If you use many stored procedures, the memory usage of every connection that is using those stored procedures will increase substantially. \n",
    "* Stored procedure’s constructs are not designed for developing complex and flexible business logic.\n",
    "* It is difficult to debug stored procedures. \n",
    "* It is not easy to develop and maintain stored procedures."
   ]
  },
  {
   "cell_type": "markdown",
   "metadata": {
    "button": false,
    "new_sheet": false,
    "run_control": {
     "read_only": false
    },
    "slideshow": {
     "slide_type": "slide"
    }
   },
   "source": [
    "## Some really simple SQL"
   ]
  },
  {
   "cell_type": "code",
   "execution_count": null,
   "metadata": {
    "button": false,
    "new_sheet": false,
    "run_control": {
     "read_only": false
    },
    "slideshow": {
     "slide_type": "fragment"
    }
   },
   "outputs": [],
   "source": [
    "sqlQuery(\"Select 1, 2+4, 'Cat emojoi: 🐈';\")"
   ]
  },
  {
   "cell_type": "code",
   "execution_count": null,
   "metadata": {
    "button": false,
    "new_sheet": false,
    "run_control": {
     "read_only": false
    },
    "slideshow": {
     "slide_type": "fragment"
    }
   },
   "outputs": [],
   "source": [
    "sqlQuery(\"select curdate(), adddate(curdate(),7)\")"
   ]
  },
  {
   "cell_type": "markdown",
   "metadata": {
    "button": false,
    "new_sheet": false,
    "run_control": {
     "read_only": false
    },
    "slideshow": {
     "slide_type": "slide"
    }
   },
   "source": [
    "# Stored procedures"
   ]
  },
  {
   "cell_type": "markdown",
   "metadata": {
    "button": false,
    "new_sheet": false,
    "run_control": {
     "read_only": false
    },
    "slideshow": {
     "slide_type": "subslide"
    }
   },
   "source": [
    "### Classic model database\n",
    "![](images/ClassicModelsER.png)"
   ]
  },
  {
   "cell_type": "markdown",
   "metadata": {
    "button": false,
    "new_sheet": false,
    "run_control": {
     "read_only": false
    },
    "slideshow": {
     "slide_type": "slide"
    }
   },
   "source": [
    "# Which office has the most customers\n",
    "```sql\n",
    "select city, count(customerNumber)\n",
    "from offices, employees, customers\n",
    "where employee.officeCode = offices.officeCode and ....\n",
    "```"
   ]
  },
  {
   "cell_type": "code",
   "execution_count": null,
   "metadata": {
    "button": false,
    "new_sheet": false,
    "run_control": {
     "read_only": false
    },
    "slideshow": {
     "slide_type": "fragment"
    }
   },
   "outputs": [],
   "source": [
    "sqlQuery(\"call mostcustomers();\")"
   ]
  },
  {
   "cell_type": "code",
   "execution_count": null,
   "metadata": {
    "button": false,
    "new_sheet": false,
    "run_control": {
     "read_only": false
    },
    "slideshow": {
     "slide_type": "slide"
    }
   },
   "outputs": [],
   "source": [
    "sqlDo(\"\"\"\n",
    "CREATE PROCEDURE mostcustomers()\n",
    "BEGIN\n",
    "  SELECT 'Lyngby', 9000;\n",
    "END;\n",
    "\"\"\")"
   ]
  },
  {
   "cell_type": "code",
   "execution_count": null,
   "metadata": {
    "button": false,
    "new_sheet": false,
    "run_control": {
     "read_only": false
    },
    "slideshow": {
     "slide_type": "subslide"
    }
   },
   "outputs": [],
   "source": [
    "sqlQuery(\"call mostcustomers();\")"
   ]
  },
  {
   "cell_type": "markdown",
   "metadata": {
    "button": false,
    "new_sheet": false,
    "run_control": {
     "read_only": false
    },
    "slideshow": {
     "slide_type": "slide"
    }
   },
   "source": [
    "#### Check up in workbench - there is now a stored procedure"
   ]
  },
  {
   "cell_type": "code",
   "execution_count": null,
   "metadata": {
    "button": false,
    "new_sheet": false,
    "run_control": {
     "read_only": false
    },
    "slideshow": {
     "slide_type": "slide"
    }
   },
   "outputs": [],
   "source": [
    "sqlDo(\"DROP PROCEDURE IF EXISTS `classicmodels`.`mostcustomers`;\")"
   ]
  },
  {
   "cell_type": "code",
   "execution_count": null,
   "metadata": {
    "button": false,
    "new_sheet": false,
    "run_control": {
     "read_only": false
    },
    "slideshow": {
     "slide_type": "fragment"
    }
   },
   "outputs": [],
   "source": [
    "sqlDo(\"\"\"\n",
    "CREATE PROCEDURE classicmodels.mostcustomers()\n",
    "BEGIN\n",
    "    select offices.city, count(customerNumber) as customers\n",
    "    from offices, employees, customers\n",
    "    where employees.officeCode = offices.officeCode and customers.salesRepEmployeeNumber = employees.employeeNumber\n",
    "    group by offices.city\n",
    "    order by customers desc\n",
    "    limit 5;\n",
    "END;\n",
    "\"\"\")"
   ]
  },
  {
   "cell_type": "code",
   "execution_count": null,
   "metadata": {
    "button": false,
    "new_sheet": false,
    "run_control": {
     "read_only": false
    },
    "slideshow": {
     "slide_type": "subslide"
    }
   },
   "outputs": [],
   "source": [
    "sqlQuery(\"call mostcustomers();\")"
   ]
  },
  {
   "cell_type": "markdown",
   "metadata": {
    "button": false,
    "new_sheet": false,
    "run_control": {
     "read_only": false
    },
    "slideshow": {
     "slide_type": "slide"
    }
   },
   "source": [
    "## Parameters to stored procedures"
   ]
  },
  {
   "cell_type": "code",
   "execution_count": null,
   "metadata": {
    "button": false,
    "new_sheet": false,
    "run_control": {
     "read_only": false
    },
    "slideshow": {
     "slide_type": "fragment"
    }
   },
   "outputs": [],
   "source": [
    "sqlQuery(\"select productline from productlines\")"
   ]
  },
  {
   "cell_type": "code",
   "execution_count": null,
   "metadata": {
    "button": false,
    "new_sheet": false,
    "run_control": {
     "read_only": false
    },
    "slideshow": {
     "slide_type": "subslide"
    }
   },
   "outputs": [],
   "source": [
    "sqlQuery(\"call products('Ships')\")"
   ]
  },
  {
   "cell_type": "code",
   "execution_count": null,
   "metadata": {
    "button": false,
    "new_sheet": false,
    "run_control": {
     "read_only": false
    },
    "slideshow": {
     "slide_type": "fragment"
    }
   },
   "outputs": [],
   "source": [
    "sqlDo(\"\"\"\n",
    "CREATE PROCEDURE classicmodels.products(IN p_line VARCHAR(255))\n",
    "BEGIN\n",
    "    select productCode, productName\n",
    "    from products\n",
    "    where productLine = p_line;\n",
    "END\n",
    "\"\"\")"
   ]
  },
  {
   "cell_type": "code",
   "execution_count": null,
   "metadata": {
    "button": false,
    "new_sheet": false,
    "run_control": {
     "read_only": false
    },
    "slideshow": {
     "slide_type": "subslide"
    }
   },
   "outputs": [],
   "source": [
    "sqlQuery(\"call products('Ships')\")"
   ]
  },
  {
   "cell_type": "markdown",
   "metadata": {
    "button": false,
    "new_sheet": false,
    "run_control": {
     "read_only": false
    },
    "slideshow": {
     "slide_type": "slide"
    }
   },
   "source": [
    "# Your turn\n",
    "\n",
    "Create a stored procedure which takes a city of office as parameter, and returns how many orders each employee have for that office.\n",
    "\n",
    "You can make your solution using workbench or any other tool. "
   ]
  },
  {
   "cell_type": "markdown",
   "metadata": {
    "button": false,
    "new_sheet": false,
    "run_control": {
     "read_only": false
    },
    "slideshow": {
     "slide_type": "fragment"
    }
   },
   "source": [
    "### Lets see some solutions\n",
    "[Our scrapbook](https://docs.google.com/document/d/1c8W921VuAG5FaQJuMjIn6JSdAuYiA2eBQxrKk-YYXVs/edit) "
   ]
  },
  {
   "cell_type": "markdown",
   "metadata": {
    "button": false,
    "new_sheet": false,
    "run_control": {
     "read_only": false
    },
    "slideshow": {
     "slide_type": "slide"
    }
   },
   "source": [
    "## More on stored procedures\n",
    "\n",
    "We saw an IN parameter. There is also an OUT parameter. \n",
    "\n",
    "In larger stored procedure code, there are global variables as well as a lot of other stuff - it is full programming languages."
   ]
  },
  {
   "cell_type": "markdown",
   "metadata": {
    "button": false,
    "new_sheet": false,
    "run_control": {
     "read_only": false
    },
    "slideshow": {
     "slide_type": "subslide"
    }
   },
   "source": [
    "#### DELIMITER\n",
    "This is a special command used in the shell of mysql\n",
    "\n",
    "Normally each statement is ended by \";\". \n",
    "\n",
    "The mysql shell reads uptil then next \";\", and fires that as a statement to the mysql engine.\n",
    "\n",
    "The delimiter command changes the delimiter from \";\" to something else."
   ]
  },
  {
   "cell_type": "markdown",
   "metadata": {
    "button": false,
    "new_sheet": false,
    "run_control": {
     "read_only": false
    },
    "slideshow": {
     "slide_type": "subslide"
    }
   },
   "source": [
    "```sql\n",
    "DELIMITER //\n",
    "CREATE PROCEDURE GetOfficeByCountry(IN countryName VARCHAR(255))\n",
    " BEGIN\n",
    " SELECT * \n",
    " FROM offices\n",
    " WHERE country = countryName;\n",
    " END //\n",
    "DELIMITER ;\n",
    "```"
   ]
  },
  {
   "cell_type": "markdown",
   "metadata": {
    "button": false,
    "new_sheet": false,
    "run_control": {
     "read_only": false
    },
    "slideshow": {
     "slide_type": "subslide"
    }
   },
   "source": [
    "### But the language is so ugly\n",
    "\n",
    "Different databases use different languages for stored procedures.\n",
    "\n",
    "You might see C#, Java, Python run in the database server.\n",
    "\n",
    "[Our friend stackoverflow has a good answer - but it is getting old](https://stackoverflow.com/questions/339744/better-languages-than-sql-for-stored-procedures)\n"
   ]
  },
  {
   "cell_type": "markdown",
   "metadata": {
    "button": false,
    "new_sheet": false,
    "run_control": {
     "read_only": false
    },
    "slideshow": {
     "slide_type": "slide"
    }
   },
   "source": [
    "# Triggers\n",
    "A trigger is a piece of code which is executed when an event happens.\n",
    "\n",
    "A trigger or database trigger is a stored program executed automatically to respond to a specific event e.g.,  **insert, update or delete** occurred in a table.\n",
    "\n",
    "(This section on triggers is inspired by [MySQLTutorial.org](http://www.mysqltutorial.org/mysql-triggers.aspx))"
   ]
  },
  {
   "cell_type": "markdown",
   "metadata": {
    "button": false,
    "new_sheet": false,
    "run_control": {
     "read_only": false
    },
    "slideshow": {
     "slide_type": "subslide"
    }
   },
   "source": [
    "### Creating a log of changes\n",
    "![](images/EmployeesTableTrigger.png)"
   ]
  },
  {
   "cell_type": "markdown",
   "metadata": {
    "button": false,
    "new_sheet": false,
    "run_control": {
     "read_only": false
    },
    "slideshow": {
     "slide_type": "subslide"
    }
   },
   "source": [
    "### Logging table:\n",
    "\n",
    "```sql\n",
    "CREATE TABLE employees_audit (\n",
    "    id INT AUTO_INCREMENT PRIMARY KEY,\n",
    "    employeeNumber INT NOT NULL,\n",
    "    lastname VARCHAR(50) NOT NULL,\n",
    "    changedat DATETIME DEFAULT NULL,\n",
    "    action VARCHAR(50) DEFAULT NULL\n",
    ");\n",
    "```"
   ]
  },
  {
   "cell_type": "markdown",
   "metadata": {
    "button": false,
    "new_sheet": false,
    "run_control": {
     "read_only": false
    },
    "slideshow": {
     "slide_type": "subslide"
    }
   },
   "source": [
    "### The trigger\n",
    "```sql\n",
    "DELIMITER $$\n",
    "CREATE TRIGGER before_employee_update \n",
    "    BEFORE UPDATE ON employees\n",
    "    FOR EACH ROW \n",
    "BEGIN\n",
    "    INSERT INTO employees_audit\n",
    "    SET action = 'update',\n",
    "        employeeNumber = OLD.employeeNumber,\n",
    "        lastname = OLD.lastname,\n",
    "        changedat = NOW(); \n",
    "END$$\n",
    "DELIMITER ;\n",
    "```"
   ]
  },
  {
   "cell_type": "markdown",
   "metadata": {
    "button": false,
    "new_sheet": false,
    "run_control": {
     "read_only": false
    },
    "slideshow": {
     "slide_type": "slide"
    }
   },
   "source": [
    "# Triggers - advantages\n",
    "\n",
    "* SQL triggers provide an alternative way to check the integrity of data.\n",
    "* SQL triggers can catch errors in business logic in the database layer.\n",
    "* SQL triggers provide an alternative way to run scheduled tasks. By using SQL triggers, you don’t have to wait to run the scheduled tasks because the triggers are invoked automatically before or after a change is made to the data in the tables.\n",
    "* SQL triggers are very useful to audit the changes of data in tables."
   ]
  },
  {
   "cell_type": "markdown",
   "metadata": {
    "button": false,
    "new_sheet": false,
    "run_control": {
     "read_only": false
    },
    "slideshow": {
     "slide_type": "subslide"
    }
   },
   "source": [
    "# Triggers - disadvantages\n",
    "\n",
    "* SQL triggers only can provide an extended validation and they cannot replace all the validations. Some simple validations have to be done in the application layer. For example, you can validate user’s inputs in the client side by using JavaScript or on the server side using server-side scripting languages such as JSP, PHP, ASP.NET, Perl.\n",
    "* SQL triggers are invoked and executed invisible from the client applications, therefore, it is difficult to figure out what happens in the database layer.\n",
    "* SQL triggers may increase the overhead of the database server."
   ]
  },
  {
   "cell_type": "markdown",
   "metadata": {
    "button": false,
    "new_sheet": false,
    "run_control": {
     "read_only": false
    },
    "slideshow": {
     "slide_type": "fragment"
    }
   },
   "source": [
    "### Stored procedure or trigger\n",
    "\n",
    "If an action requires a trigger - consider making a stored procedure which do both actions:\n",
    "* the trigger action\n",
    "* the original action"
   ]
  },
  {
   "cell_type": "markdown",
   "metadata": {
    "slideshow": {
     "slide_type": "subslide"
    }
   },
   "source": [
    "### Timed triggers\n",
    "\n",
    "```sql\n",
    "CREATE EVENT every_minute_for_an_hour_starting_now\n",
    "ON SCHEDULE EVERY 1 MINUTE\n",
    "STARTS CURRENT_TIMESTAMP\n",
    "ENDS CURRENT_TIMESTAMP + INTERVAL 1 HOUR\n",
    "DO\n",
    "   INSERT INTO messages(message,created_at)\n",
    "   VALUES('Test MySQL recurring Event',NOW());\n",
    "```"
   ]
  },
  {
   "cell_type": "markdown",
   "metadata": {
    "button": false,
    "new_sheet": false,
    "run_control": {
     "read_only": false
    },
    "slideshow": {
     "slide_type": "slide"
    }
   },
   "source": [
    "# Views\n",
    "\n",
    "Views are basically a named select statement.\n",
    "\n",
    "![](http://www.mysqltutorial.org/wp-content/uploads/2009/12/mysql-view.jpg)\n",
    "\n",
    "```sql\n",
    "CREATE VIEW view_name [(column_list)] AS\n",
    "select-statement;\n",
    "```"
   ]
  },
  {
   "cell_type": "code",
   "execution_count": null,
   "metadata": {
    "button": false,
    "new_sheet": false,
    "run_control": {
     "read_only": false
    },
    "slideshow": {
     "slide_type": "subslide"
    }
   },
   "outputs": [],
   "source": [
    "sqlDo(\"\"\"\n",
    "DROP VIEW IF EXISTS customer_admin;\n",
    "CREATE VIEW customer_admin AS\n",
    "select customerNumber, customerName, customers.phone, \n",
    "    concat(firstName,' ',lastName) as employeeName, offices.city\n",
    "from customers\n",
    "    inner join employees on customers.salesRepEmployeeNumber = employees.employeeNumber\n",
    "    inner join offices on employees.officeCode = offices.officeCode\n",
    "\"\"\")"
   ]
  },
  {
   "cell_type": "code",
   "execution_count": null,
   "metadata": {
    "button": false,
    "new_sheet": false,
    "run_control": {
     "read_only": false
    },
    "slideshow": {
     "slide_type": "subslide"
    }
   },
   "outputs": [],
   "source": [
    "sqlQuery(\"\"\"\n",
    "select * from customer_admin \n",
    "limit 5\n",
    "\"\"\")"
   ]
  },
  {
   "cell_type": "markdown",
   "metadata": {
    "button": false,
    "new_sheet": false,
    "run_control": {
     "read_only": false
    },
    "slideshow": {
     "slide_type": "slide"
    }
   },
   "source": [
    "## Materialized view\n",
    "\n",
    "A materialized view is a view which is cashed in the database. \n",
    "\n",
    "MySQL do not have such a thing.\n",
    "\n",
    "To implement it you need to do:\n",
    "\n",
    "* Create a table to store the result\n",
    "* Create a stored procedure which will update it based on the (non-material) view\n",
    "* Perhaps make a trigger that updates the material view on demand or on a timer"
   ]
  },
  {
   "cell_type": "markdown",
   "metadata": {
    "button": false,
    "new_sheet": false,
    "run_control": {
     "read_only": false
    },
    "slideshow": {
     "slide_type": "slide"
    }
   },
   "source": [
    "# Your turn\n",
    "\n",
    "Create a view `customer_balance` which for each customer has customerNumber, customerName, sum of all payments by the customer and sum of all price of all orders.\n",
    "\n",
    "Start with the sum of all payments, as the sum of all orders are a bit harder.\n",
    "\n",
    "You can make the \"sum of all payments\" by creating intermediate views.\n",
    "* A view of orderdetails which has the price calculated\n",
    "* A view of orders which has the total price calculated"
   ]
  },
  {
   "cell_type": "markdown",
   "metadata": {
    "button": false,
    "new_sheet": false,
    "run_control": {
     "read_only": false
    },
    "slideshow": {
     "slide_type": "fragment"
    }
   },
   "source": [
    "### Lets see some solutions\n",
    "[Our scrapbook](https://docs.google.com/document/d/1c8W921VuAG5FaQJuMjIn6JSdAuYiA2eBQxrKk-YYXVs/edit) "
   ]
  },
  {
   "cell_type": "markdown",
   "metadata": {
    "button": false,
    "new_sheet": false,
    "run_control": {
     "read_only": false
    },
    "slideshow": {
     "slide_type": "slide"
    }
   },
   "source": [
    "# JSON support\n",
    "\n",
    "In MySQL JSON is supported as a spcial column type:\n"
   ]
  },
  {
   "cell_type": "code",
   "execution_count": null,
   "metadata": {
    "button": false,
    "new_sheet": false,
    "run_control": {
     "read_only": false
    }
   },
   "outputs": [],
   "source": [
    "sqlQuery(\"SELECT JSON_ARRAY('a', 1, NOW())\")"
   ]
  },
  {
   "cell_type": "code",
   "execution_count": null,
   "metadata": {
    "button": false,
    "new_sheet": false,
    "run_control": {
     "read_only": false
    }
   },
   "outputs": [],
   "source": [
    "sqlQuery(\"SELECT JSON_OBJECT('key1', 1, 'key2', 'abc');\")"
   ]
  },
  {
   "cell_type": "markdown",
   "metadata": {
    "button": false,
    "new_sheet": false,
    "run_control": {
     "read_only": false
    },
    "slideshow": {
     "slide_type": "slide"
    }
   },
   "source": [
    "### JSON from existing data\n",
    "\n",
    "![](images/ClassicModelsProductLines.png)"
   ]
  },
  {
   "cell_type": "code",
   "execution_count": null,
   "metadata": {
    "button": false,
    "new_sheet": false,
    "run_control": {
     "read_only": false
    },
    "slideshow": {
     "slide_type": "subslide"
    }
   },
   "outputs": [],
   "source": [
    "#Collecting into JSON arrays\n",
    "\n",
    "sqlQuery(\"\"\"\n",
    "select productLine, JSON_ARRAYAGG(productName) \n",
    "from products\n",
    "group by productLine\n",
    "limit 2\n",
    "\"\"\")"
   ]
  },
  {
   "cell_type": "markdown",
   "metadata": {
    "button": false,
    "new_sheet": false,
    "run_control": {
     "read_only": false
    },
    "slideshow": {
     "slide_type": "slide"
    }
   },
   "source": [
    "### Making orderdetails a json array of objects\n",
    "\n",
    "![](images/ClassicModelsOrders.png)"
   ]
  },
  {
   "cell_type": "code",
   "execution_count": null,
   "metadata": {
    "button": false,
    "new_sheet": false,
    "run_control": {
     "read_only": false
    },
    "slideshow": {
     "slide_type": "subslide"
    }
   },
   "outputs": [],
   "source": [
    "sqlQuery(\"\"\"\n",
    "select orderNumber, JSON_OBJECT('prodCode', productCode, 'qty', \n",
    "        quantityOrdered, 'price', priceEach, 'line', orderLineNumber) as detail\n",
    "from orderdetails\n",
    "limit 4\n",
    "\"\"\")"
   ]
  },
  {
   "cell_type": "markdown",
   "metadata": {
    "button": false,
    "new_sheet": false,
    "run_control": {
     "read_only": false
    },
    "slideshow": {
     "slide_type": "fragment"
    }
   },
   "source": [
    "Notice:\n",
    "* I keep the orderNumber foreign key \n",
    "* There is no order to the attributes in the JSON objects\n",
    "* The JSON_OBJECT function take pairs of arguments"
   ]
  },
  {
   "cell_type": "markdown",
   "metadata": {
    "button": false,
    "new_sheet": false,
    "run_control": {
     "read_only": false
    },
    "slideshow": {
     "slide_type": "slide"
    }
   },
   "source": [
    "### Subqueries and join and json"
   ]
  },
  {
   "cell_type": "code",
   "execution_count": null,
   "metadata": {
    "button": false,
    "new_sheet": false,
    "run_control": {
     "read_only": false
    },
    "slideshow": {
     "slide_type": "slide"
    }
   },
   "outputs": [],
   "source": [
    "sqlQuery(\"\"\"\n",
    "select orders.orderNumber, JSON_ARRAYAGG(detail) as details\n",
    "from orders \n",
    "inner join (select orderNumber, JSON_OBJECT('line', orderLineNumber, 'prodCode', productCode, 'qty', \n",
    "                quantityOrdered, 'price', priceEach, 'total', quantityOrdered*priceEach) as detail\n",
    "            from orderdetails) as detail_table\n",
    "    on orders.orderNumber = detail_table.orderNumber\n",
    "group by orders.orderNumber\n",
    "limit 2\n",
    "\"\"\")"
   ]
  },
  {
   "cell_type": "code",
   "execution_count": null,
   "metadata": {
    "button": false,
    "new_sheet": false,
    "run_control": {
     "read_only": false
    },
    "slideshow": {
     "slide_type": "slide"
    }
   },
   "outputs": [],
   "source": [
    "sqlDo(\"\"\"\n",
    "DROP VIEW IF EXISTS order_details;\n",
    "CREATE VIEW order_details AS\n",
    "select orders.orderNumber, JSON_ARRAYAGG(detail) as details\n",
    "from orders \n",
    "inner join (select orderNumber, JSON_OBJECT('line', orderLineNumber, 'prodCode', productCode, 'qty', \n",
    "                quantityOrdered, 'price', priceEach, 'total', quantityOrdered*priceEach) as detail\n",
    "            from orderdetails) as detail_table\n",
    "    on orders.orderNumber = detail_table.orderNumber\n",
    "group by orders.orderNumber\n",
    "\"\"\")"
   ]
  },
  {
   "cell_type": "code",
   "execution_count": null,
   "metadata": {
    "button": false,
    "new_sheet": false,
    "run_control": {
     "read_only": false
    },
    "slideshow": {
     "slide_type": "slide"
    }
   },
   "outputs": [],
   "source": [
    "sqlQuery(\"select * from order_details limit 3\")"
   ]
  },
  {
   "cell_type": "markdown",
   "metadata": {
    "button": false,
    "new_sheet": false,
    "run_control": {
     "read_only": false
    },
    "slideshow": {
     "slide_type": "slide"
    }
   },
   "source": [
    "# Your Turn - Assignment 5"
   ]
  }
 ],
 "metadata": {
  "celltoolbar": "Slideshow",
  "kernelspec": {
   "display_name": "Python 3",
   "language": "python",
   "name": "python3"
  },
  "language_info": {
   "codemirror_mode": {
    "name": "ipython",
    "version": 3
   },
   "file_extension": ".py",
   "mimetype": "text/x-python",
   "name": "python",
   "nbconvert_exporter": "python",
   "pygments_lexer": "ipython3",
   "version": "3.7.1"
  }
 },
 "nbformat": 4,
 "nbformat_minor": 2
}
