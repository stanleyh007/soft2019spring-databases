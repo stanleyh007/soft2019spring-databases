{
 "cells": [
  {
   "cell_type": "code",
   "execution_count": 5,
   "metadata": {
    "scrolled": true
   },
   "outputs": [
    {
     "name": "stdout",
     "output_type": "stream",
     "text": [
      "CONTAINER ID        IMAGE               COMMAND                  CREATED             STATUS              PORTS                      NAMES\n",
      "43aff534ca98        mongo:latest        \"docker-entrypoint.s…\"   27 seconds ago      Up 26 seconds       0.0.0.0:27017->27017/tcp   dbms\n"
     ]
    }
   ],
   "source": [
    "%%bash\n",
    "docker container ls"
   ]
  },
  {
   "cell_type": "code",
   "execution_count": 8,
   "metadata": {},
   "outputs": [
    {
     "name": "stdout",
     "output_type": "stream",
     "text": [
      "Done\n"
     ]
    }
   ],
   "source": [
    "import pymongo\n",
    "from pymongo import MongoClient\n",
    "client = MongoClient()\n",
    "db = client.soft\n",
    "users = db.users\n",
    "print(\"Done\")"
   ]
  },
  {
   "cell_type": "code",
   "execution_count": 9,
   "metadata": {},
   "outputs": [
    {
     "data": {
      "text/plain": [
       "'Read 431'"
      ]
     },
     "execution_count": 9,
     "metadata": {},
     "output_type": "execute_result"
    }
   ],
   "source": [
    "from urllib.request import urlopen\n",
    "import json\n",
    "from bson.json_util import loads\n",
    "\n",
    "link = \"https://raw.githubusercontent.com/ozlerhakan/mongodb-json-files/master/datasets/catalog.books.json\"\n",
    "f = urlopen(link)\n",
    "myfile = f.read()\n",
    "allBooks = myfile.decode(\"utf-8\")\n",
    "count = 0\n",
    "for line in allBooks.splitlines():\n",
    "    jsonbook = loads(line)\n",
    "    #print( str(count) +\": \" + str(jsonbook) )\n",
    "    db.books.insert_one(jsonbook)\n",
    "    count = count + 1\n",
    "\"Read \" + str(count)"
   ]
  },
  {
   "cell_type": "code",
   "execution_count": 37,
   "metadata": {},
   "outputs": [
    {
     "name": "stdout",
     "output_type": "stream",
     "text": [
      "MongoDB shell version v4.0.6\n",
      "connecting to: mongodb://127.0.0.1:27017/soft?gssapiServiceName=mongodb\n",
      "Implicit session: session { \"id\" : UUID(\"67f2948b-25fa-418f-95f6-5503db86b9a6\") }\n",
      "MongoDB server version: 4.0.6\n",
      "{ \"title\" : \"Griffon in Action\", \"authors\" : [ \"Andres Almiray\", \"Danno Ferrin\", \"\", \"James Shingler\" ] }\n",
      "{ \"title\" : \"Spring Dynamic Modules in Action\", \"authors\" : [ \"Arnaud Cogoluegnes\", \"Thierry Templier\", \"\", \"Andy Piper\" ] }\n",
      "{ \"title\" : \"Struts 2 in Action\", \"authors\" : [ \"Donald Brown\", \"Chad Michael Davis\", \"\", \"Scott Stanlick\" ] }\n",
      "{ \"title\" : \"Lucene in Action, Second Edition\", \"authors\" : [ \"Erik Hatcher\", \"Otis Gospodnetic\", \"\", \"Michael McCandless\" ] }\n",
      "{ \"title\" : \"Portlets and Apache Portals\", \"authors\" : [ \"Stefan Hepper\", \"Peter Fischer\", \"Stephan Hesmer\", \"Richard Jacob\", \"David Sean Taylor\" ] }\n",
      "{ \"title\" : \"Java Network Programming, Second Edition\", \"authors\" : [ \"Merlin Hughes\", \"Michael Shoffner\", \"\", \"Derek Hamner\" ] }\n",
      "{ \"title\" : \"Struts in Action\", \"authors\" : [ \"Ted N. Husted\", \"Cedric Dumoulin\", \"George Franciscus\", \"David Winterfeldt\" ] }\n",
      "{ \"title\" : \"Groovy in Action\", \"authors\" : [ \"Dierk Koenig with Andrew Glover\", \"Paul King\", \"Guillaume Laforge\", \"Jon Skeet\" ] }\n",
      "{ \"title\" : \"Groovy in Action, Second Edition\", \"authors\" : [ \"Dierk König\", \"Guillaume Laforge\", \"Paul King\", \"Cédric Champeau\", \"Hamlet D'Arcy\", \"Erik Pragt\", \"\", \"Jon Skeet\" ] }\n",
      "{ \"title\" : \"Tuscany SCA in Action\", \"authors\" : [ \"Simon Laws\", \"Mark Combellack\", \"Raymond Feng\", \"Haleh Mahbod\", \"Simon Nash\" ] }\n",
      "{ \"title\" : \"Mahout in Action\", \"authors\" : [ \"Sean Owen\", \"Robin Anil\", \"Ted Dunning\", \"\", \"Ellen Friedman\" ] }\n",
      "{ \"title\" : \"EJB 3 in Action\", \"authors\" : [ \"Debu Panda\", \"Reza Rahman\", \"Derek Lane\" ] }\n",
      "{ \"title\" : \"EJB 3 in Action, Second Edition\", \"authors\" : [ \"Debu Panda\", \"Reza Rahman\", \"Ryan Cuprak\", \"\", \"Michael Remijan\" ] }\n",
      "{ \"title\" : \"SWT/JFace in Action\", \"authors\" : [ \"Matthew Scarpino\", \"Stephen Holder\", \"Stanford Ng\", \"\", \"Laurent Mihalkovic\" ] }\n",
      "{ \"title\" : \"JSP Tag Libraries\", \"authors\" : [ \"Gal Shachor\", \"Adam Chace\", \"Magnus Rydin\" ] }\n",
      "{ \"title\" : \"Java Applets and Channels Without Programming\", \"authors\" : [ \"Ronny Richardson\", \"Michael Shoffner\", \"Marq Singer\", \"Bruce Murray\", \"\", \"Jack Gambol\" ] }\n",
      "{ \"title\" : \"Making Sense of Java\", \"authors\" : [ \"Bruce Simpson\", \"John Mitchell\", \"Brian Christeson\", \"Rehan Zaidi\", \"\", \"Jonathan Levine\" ] }\n",
      "{ \"title\" : \"ActiveMQ in Action\", \"authors\" : [ \"Bruce Snyder\", \"Dejan Bosanac\", \"\", \"Rob Davies\" ] }\n",
      "{ \"title\" : \"GWT in Action, Second Edition\", \"authors\" : [ \"Adam Tacy\", \"Robert Hanson\", \"Jason Essington\", \"\", \"Anna Tökke\" ] }\n",
      "{ \"title\" : \"JUnit in Action, Second Edition\", \"authors\" : [ \"Petar Tahchiev\", \"Felipe Leme\", \"Vincent Massol\", \"\", \"Gary Gregory\" ] }\n",
      "Type \"it\" for more\n"
     ]
    }
   ],
   "source": [
    "%%bash\n",
    "query='db.books.aggregate([\n",
    "{$match:{categories: {$in: [ \"Java\" ] } } },\n",
    "{$project: {title:1, authors:1, _id:0,\n",
    "noAuthors:{$gte: [{$size: \"$authors\"},3]}}}, \n",
    "{$match:{noAuthors: true}},\n",
    "{$project: {title:1, authors:1}}\n",
    "])'\n",
    "docker exec dbms mongo soft --eval \"$query\""
   ]
  },
  {
   "cell_type": "code",
   "execution_count": null,
   "metadata": {},
   "outputs": [],
   "source": []
  }
 ],
 "metadata": {
  "kernelspec": {
   "display_name": "Python 3",
   "language": "python",
   "name": "python3"
  },
  "language_info": {
   "codemirror_mode": {
    "name": "ipython",
    "version": 3
   },
   "file_extension": ".py",
   "mimetype": "text/x-python",
   "name": "python",
   "nbconvert_exporter": "python",
   "pygments_lexer": "ipython3",
   "version": "3.7.1"
  }
 },
 "nbformat": 4,
 "nbformat_minor": 2
}
