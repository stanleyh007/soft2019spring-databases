{
 "cells": [
  {
   "cell_type": "markdown",
   "metadata": {},
   "source": [
    "# MySQL connection\n",
    "\n",
    "Loosely buildt on: https://docs.docker.com/samples/library/mysql/\n",
    "\n"
   ]
  },
  {
   "cell_type": "code",
   "execution_count": 4,
   "metadata": {
    "scrolled": true
   },
   "outputs": [
    {
     "name": "stdout",
     "output_type": "stream",
     "text": [
      "latest: Pulling from library/mysql\n",
      "f7e2b70d04ae: Pulling fs layer\n",
      "df7f6307ff0a: Pulling fs layer\n",
      "e29ed02b1013: Pulling fs layer\n",
      "9cb929db392c: Pulling fs layer\n",
      "42cc77b24286: Pulling fs layer\n",
      "a6d57750cc73: Pulling fs layer\n",
      "79510826e343: Pulling fs layer\n",
      "0bff56f688ad: Pulling fs layer\n",
      "b7900ad0eff9: Pulling fs layer\n",
      "9ffa71cbd4ba: Pulling fs layer\n",
      "3d744b02cc8e: Pulling fs layer\n",
      "75b0db54e16c: Pulling fs layer\n",
      "9cb929db392c: Waiting\n",
      "42cc77b24286: Waiting\n",
      "a6d57750cc73: Waiting\n",
      "79510826e343: Waiting\n",
      "0bff56f688ad: Waiting\n",
      "b7900ad0eff9: Waiting\n",
      "9ffa71cbd4ba: Waiting\n",
      "3d744b02cc8e: Waiting\n",
      "75b0db54e16c: Waiting\n",
      "df7f6307ff0a: Download complete\n",
      "e29ed02b1013: Verifying Checksum\n",
      "e29ed02b1013: Download complete\n",
      "9cb929db392c: Verifying Checksum\n",
      "9cb929db392c: Download complete\n",
      "42cc77b24286: Verifying Checksum\n",
      "42cc77b24286: Download complete\n",
      "79510826e343: Verifying Checksum\n",
      "79510826e343: Download complete\n",
      "a6d57750cc73: Verifying Checksum\n",
      "a6d57750cc73: Download complete\n",
      "f7e2b70d04ae: Verifying Checksum\n",
      "f7e2b70d04ae: Download complete\n",
      "0bff56f688ad: Verifying Checksum\n",
      "0bff56f688ad: Download complete\n",
      "3d744b02cc8e: Verifying Checksum\n",
      "3d744b02cc8e: Download complete\n",
      "9ffa71cbd4ba: Verifying Checksum\n",
      "9ffa71cbd4ba: Download complete\n",
      "75b0db54e16c: Verifying Checksum\n",
      "75b0db54e16c: Download complete\n",
      "f7e2b70d04ae: Pull complete\n",
      "df7f6307ff0a: Pull complete\n",
      "b7900ad0eff9: Verifying Checksum\n",
      "b7900ad0eff9: Download complete\n",
      "e29ed02b1013: Pull complete\n",
      "9cb929db392c: Pull complete\n",
      "42cc77b24286: Pull complete\n",
      "a6d57750cc73: Pull complete\n",
      "79510826e343: Pull complete\n",
      "0bff56f688ad: Pull complete\n",
      "b7900ad0eff9: Pull complete\n",
      "9ffa71cbd4ba: Pull complete\n",
      "3d744b02cc8e: Pull complete\n",
      "75b0db54e16c: Pull complete\n",
      "Digest: sha256:4589ba2850b93d103e60011fe528fc56230516c1efb4d3494c33ff499505356f\n",
      "Status: Downloaded newer image for mysql:latest\n"
     ]
    }
   ],
   "source": [
    "%%bash\n",
    "docker pull mysql:latest"
   ]
  },
  {
   "cell_type": "markdown",
   "metadata": {},
   "source": [
    "## I want to store the files of the database on the host (my computer, not the container).\n",
    "\n",
    "I store them in a directory named mysql_databasefiles\n",
    "\n"
   ]
  },
  {
   "cell_type": "code",
   "execution_count": 5,
   "metadata": {},
   "outputs": [
    {
     "name": "stdout",
     "output_type": "stream",
     "text": [
      "/Users/Stormwind/soft2019spring-databases/lecture_notes\n"
     ]
    }
   ],
   "source": [
    "%%bash\n",
    "# -p flag tells it to \"create what is needed\" - \n",
    "mkdir -p mysql_databasefiles\n",
    "echo \"$(pwd)\""
   ]
  },
  {
   "cell_type": "code",
   "execution_count": 6,
   "metadata": {},
   "outputs": [
    {
     "name": "stdout",
     "output_type": "stream",
     "text": [
      "009ce9d37a61ed60e00aef5e63083b83355eb24c42fc76a602deb2e80fdcddd4\n",
      "Wooootttt\n"
     ]
    },
    {
     "name": "stderr",
     "output_type": "stream",
     "text": [
      "docker: Error response from daemon: driver failed programming external connectivity on endpoint my_mysql (5c3846a8bbb037c289be5635f7c44fe1c60428a4061a237dcc9500a07d5f5465): Error starting userland proxy: Bind for 0.0.0.0:3306 failed: port is already allocated.\n"
     ]
    }
   ],
   "source": [
    "%%bash\n",
    "docker run \\\n",
    "--rm \\\n",
    "--name my_mysql \\\n",
    "-v $(pwd)/mysql_databasefiles:/var/lib/mysql \\\n",
    "-p 3306:3306 \\\n",
    "-e MYSQL_ROOT_PASSWORD=deterentysker!42snapsnap \\\n",
    "-d \\\n",
    "mysql\n",
    "echo \"Wooootttt\""
   ]
  },
  {
   "cell_type": "markdown",
   "metadata": {},
   "source": [
    "### Confirm it runs"
   ]
  },
  {
   "cell_type": "code",
   "execution_count": 7,
   "metadata": {},
   "outputs": [
    {
     "name": "stdout",
     "output_type": "stream",
     "text": [
      "CONTAINER ID        IMAGE                                        COMMAND                  CREATED             STATUS                      PORTS                    NAMES\r\n",
      "51c4fc29b149        docker-elk_logstash                          \"/usr/local/bin/dock…\"   3 months ago        Exited (0) 3 months ago                              docker-elk_logstash_1\r\n",
      "1a6ff808a1a0        docker-elk_kibana                            \"/usr/local/bin/kiba…\"   3 months ago        Exited (137) 3 months ago                            docker-elk_kibana_1\r\n",
      "a96344c8c8f2        docker-elk_elasticsearch                     \"/usr/local/bin/dock…\"   3 months ago        Exited (143) 3 months ago                            docker-elk_elasticsearch_1\r\n",
      "c7a93f52908f        mcr.microsoft.com/mssql/server:2017-latest   \"/opt/mssql/bin/sqls…\"   4 months ago        Exited (255) 4 months ago   0.0.0.0:1433->1433/tcp   sql1\r\n",
      "675dc1098171        appropriate/curl                             \"sh -c 'sleep 5 && c…\"   5 months ago        Exited (0) 5 months ago                              container_clidownload_1\r\n",
      "a21d8c32f9fd        sskeikomk/myserver                           \"/bin/sh -c ./basic_…\"   5 months ago        Exited (137) 5 months ago                            container_webserver_1\r\n",
      "eab3d641dcbf        4c649ce8f88d                                 \"/bin/sh -c 'curl -s…\"   5 months ago        Exited (0) 5 months ago                              client_1\r\n"
     ]
    }
   ],
   "source": [
    "!docker container ls -a"
   ]
  },
  {
   "cell_type": "code",
   "execution_count": 8,
   "metadata": {},
   "outputs": [],
   "source": [
    "!ls -l mysql_databasefiles"
   ]
  },
  {
   "cell_type": "markdown",
   "metadata": {},
   "source": [
    "### Kill it and remove it"
   ]
  },
  {
   "cell_type": "code",
   "execution_count": 9,
   "metadata": {},
   "outputs": [
    {
     "name": "stdout",
     "output_type": "stream",
     "text": [
      "CONTAINER ID        IMAGE                                        COMMAND                  CREATED             STATUS                      PORTS                    NAMES\n",
      "51c4fc29b149        docker-elk_logstash                          \"/usr/local/bin/dock…\"   3 months ago        Exited (0) 3 months ago                              docker-elk_logstash_1\n",
      "1a6ff808a1a0        docker-elk_kibana                            \"/usr/local/bin/kiba…\"   3 months ago        Exited (137) 3 months ago                            docker-elk_kibana_1\n",
      "a96344c8c8f2        docker-elk_elasticsearch                     \"/usr/local/bin/dock…\"   3 months ago        Exited (143) 3 months ago                            docker-elk_elasticsearch_1\n",
      "c7a93f52908f        mcr.microsoft.com/mssql/server:2017-latest   \"/opt/mssql/bin/sqls…\"   4 months ago        Exited (255) 4 months ago   0.0.0.0:1433->1433/tcp   sql1\n",
      "675dc1098171        appropriate/curl                             \"sh -c 'sleep 5 && c…\"   5 months ago        Exited (0) 5 months ago                              container_clidownload_1\n",
      "a21d8c32f9fd        sskeikomk/myserver                           \"/bin/sh -c ./basic_…\"   5 months ago        Exited (137) 5 months ago                            container_webserver_1\n",
      "eab3d641dcbf        4c649ce8f88d                                 \"/bin/sh -c 'curl -s…\"   5 months ago        Exited (0) 5 months ago                              client_1\n"
     ]
    },
    {
     "name": "stderr",
     "output_type": "stream",
     "text": [
      "Error response from daemon: Cannot kill container: my_mysql: No such container: my_mysql\n"
     ]
    }
   ],
   "source": [
    "%%bash\n",
    "docker kill my_mysql\n",
    "#docker rm my_mysql\n",
    "docker container ls -a"
   ]
  },
  {
   "cell_type": "markdown",
   "metadata": {},
   "source": [
    "## Connect to it"
   ]
  },
  {
   "cell_type": "code",
   "execution_count": 10,
   "metadata": {},
   "outputs": [
    {
     "ename": "ProgrammingError",
     "evalue": "1045 (28000): Access denied for user 'root'@'localhost' (using password: YES)",
     "output_type": "error",
     "traceback": [
      "\u001b[0;31m---------------------------------------------------------------------------\u001b[0m",
      "\u001b[0;31mMySQLInterfaceError\u001b[0m                       Traceback (most recent call last)",
      "\u001b[0;32m/anaconda3/lib/python3.7/site-packages/mysql/connector/connection_cext.py\u001b[0m in \u001b[0;36m_open_connection\u001b[0;34m(self)\u001b[0m\n\u001b[1;32m    178\u001b[0m         \u001b[0;32mtry\u001b[0m\u001b[0;34m:\u001b[0m\u001b[0;34m\u001b[0m\u001b[0;34m\u001b[0m\u001b[0m\n\u001b[0;32m--> 179\u001b[0;31m             \u001b[0mself\u001b[0m\u001b[0;34m.\u001b[0m\u001b[0m_cmysql\u001b[0m\u001b[0;34m.\u001b[0m\u001b[0mconnect\u001b[0m\u001b[0;34m(\u001b[0m\u001b[0;34m**\u001b[0m\u001b[0mcnx_kwargs\u001b[0m\u001b[0;34m)\u001b[0m\u001b[0;34m\u001b[0m\u001b[0;34m\u001b[0m\u001b[0m\n\u001b[0m\u001b[1;32m    180\u001b[0m         \u001b[0;32mexcept\u001b[0m \u001b[0mMySQLInterfaceError\u001b[0m \u001b[0;32mas\u001b[0m \u001b[0mexc\u001b[0m\u001b[0;34m:\u001b[0m\u001b[0;34m\u001b[0m\u001b[0;34m\u001b[0m\u001b[0m\n",
      "\u001b[0;31mMySQLInterfaceError\u001b[0m: Access denied for user 'root'@'localhost' (using password: YES)",
      "\nDuring handling of the above exception, another exception occurred:\n",
      "\u001b[0;31mProgrammingError\u001b[0m                          Traceback (most recent call last)",
      "\u001b[0;32m<ipython-input-10-ee20fe8b27a5>\u001b[0m in \u001b[0;36m<module>\u001b[0;34m\u001b[0m\n\u001b[1;32m      7\u001b[0m         \u001b[0;32mreturn\u001b[0m \u001b[0mconn\u001b[0m\u001b[0;34m\u001b[0m\u001b[0;34m\u001b[0m\u001b[0m\n\u001b[1;32m      8\u001b[0m \u001b[0;34m\u001b[0m\u001b[0m\n\u001b[0;32m----> 9\u001b[0;31m \u001b[0mrootconn\u001b[0m \u001b[0;34m=\u001b[0m \u001b[0mmyconnect\u001b[0m\u001b[0;34m(\u001b[0m\u001b[0;34m'root'\u001b[0m\u001b[0;34m,\u001b[0m\u001b[0;34m'deterentysker!42snapsnap'\u001b[0m\u001b[0;34m)\u001b[0m\u001b[0;34m\u001b[0m\u001b[0;34m\u001b[0m\u001b[0m\n\u001b[0m\u001b[1;32m     10\u001b[0m \u001b[0;34m\u001b[0m\u001b[0m\n\u001b[1;32m     11\u001b[0m \u001b[0;32mdef\u001b[0m \u001b[0msqlQuery\u001b[0m\u001b[0;34m(\u001b[0m\u001b[0msqlString\u001b[0m\u001b[0;34m,\u001b[0m \u001b[0mconn\u001b[0m\u001b[0;34m=\u001b[0m\u001b[0mrootconn\u001b[0m\u001b[0;34m)\u001b[0m\u001b[0;34m:\u001b[0m\u001b[0;34m\u001b[0m\u001b[0;34m\u001b[0m\u001b[0m\n",
      "\u001b[0;32m<ipython-input-10-ee20fe8b27a5>\u001b[0m in \u001b[0;36mmyconnect\u001b[0;34m(user, pw)\u001b[0m\n\u001b[1;32m      3\u001b[0m \u001b[0;34m\u001b[0m\u001b[0m\n\u001b[1;32m      4\u001b[0m \u001b[0;32mdef\u001b[0m \u001b[0mmyconnect\u001b[0m\u001b[0;34m(\u001b[0m\u001b[0muser\u001b[0m\u001b[0;34m,\u001b[0m \u001b[0mpw\u001b[0m\u001b[0;34m)\u001b[0m\u001b[0;34m:\u001b[0m\u001b[0;34m\u001b[0m\u001b[0;34m\u001b[0m\u001b[0m\n\u001b[0;32m----> 5\u001b[0;31m         \u001b[0mconn\u001b[0m \u001b[0;34m=\u001b[0m \u001b[0mmysql\u001b[0m\u001b[0;34m.\u001b[0m\u001b[0mconnector\u001b[0m\u001b[0;34m.\u001b[0m\u001b[0mconnect\u001b[0m\u001b[0;34m(\u001b[0m \u001b[0mhost\u001b[0m\u001b[0;34m=\u001b[0m\u001b[0;34m'localhost'\u001b[0m\u001b[0;34m,\u001b[0m \u001b[0mdatabase\u001b[0m\u001b[0;34m=\u001b[0m\u001b[0;34m'world'\u001b[0m\u001b[0;34m,\u001b[0m\u001b[0muser\u001b[0m\u001b[0;34m=\u001b[0m\u001b[0muser\u001b[0m\u001b[0;34m,\u001b[0m \u001b[0mpassword\u001b[0m\u001b[0;34m=\u001b[0m\u001b[0mpw\u001b[0m\u001b[0;34m)\u001b[0m\u001b[0;34m\u001b[0m\u001b[0;34m\u001b[0m\u001b[0m\n\u001b[0m\u001b[1;32m      6\u001b[0m         \u001b[0mconn\u001b[0m\u001b[0;34m.\u001b[0m\u001b[0mautocommit\u001b[0m \u001b[0;34m=\u001b[0m \u001b[0;32mTrue\u001b[0m\u001b[0;34m\u001b[0m\u001b[0;34m\u001b[0m\u001b[0m\n\u001b[1;32m      7\u001b[0m         \u001b[0;32mreturn\u001b[0m \u001b[0mconn\u001b[0m\u001b[0;34m\u001b[0m\u001b[0;34m\u001b[0m\u001b[0m\n",
      "\u001b[0;32m/anaconda3/lib/python3.7/site-packages/mysql/connector/__init__.py\u001b[0m in \u001b[0;36mconnect\u001b[0;34m(*args, **kwargs)\u001b[0m\n\u001b[1;32m    170\u001b[0m \u001b[0;34m\u001b[0m\u001b[0m\n\u001b[1;32m    171\u001b[0m     \u001b[0;32mif\u001b[0m \u001b[0mHAVE_CEXT\u001b[0m \u001b[0;32mand\u001b[0m \u001b[0;32mnot\u001b[0m \u001b[0muse_pure\u001b[0m\u001b[0;34m:\u001b[0m\u001b[0;34m\u001b[0m\u001b[0;34m\u001b[0m\u001b[0m\n\u001b[0;32m--> 172\u001b[0;31m         \u001b[0;32mreturn\u001b[0m \u001b[0mCMySQLConnection\u001b[0m\u001b[0;34m(\u001b[0m\u001b[0;34m*\u001b[0m\u001b[0margs\u001b[0m\u001b[0;34m,\u001b[0m \u001b[0;34m**\u001b[0m\u001b[0mkwargs\u001b[0m\u001b[0;34m)\u001b[0m\u001b[0;34m\u001b[0m\u001b[0;34m\u001b[0m\u001b[0m\n\u001b[0m\u001b[1;32m    173\u001b[0m     \u001b[0;32mreturn\u001b[0m \u001b[0mMySQLConnection\u001b[0m\u001b[0;34m(\u001b[0m\u001b[0;34m*\u001b[0m\u001b[0margs\u001b[0m\u001b[0;34m,\u001b[0m \u001b[0;34m**\u001b[0m\u001b[0mkwargs\u001b[0m\u001b[0;34m)\u001b[0m\u001b[0;34m\u001b[0m\u001b[0;34m\u001b[0m\u001b[0m\n\u001b[1;32m    174\u001b[0m \u001b[0mConnect\u001b[0m \u001b[0;34m=\u001b[0m \u001b[0mconnect\u001b[0m  \u001b[0;31m# pylint: disable=C0103\u001b[0m\u001b[0;34m\u001b[0m\u001b[0;34m\u001b[0m\u001b[0m\n",
      "\u001b[0;32m/anaconda3/lib/python3.7/site-packages/mysql/connector/connection_cext.py\u001b[0m in \u001b[0;36m__init__\u001b[0;34m(self, **kwargs)\u001b[0m\n\u001b[1;32m     76\u001b[0m \u001b[0;34m\u001b[0m\u001b[0m\n\u001b[1;32m     77\u001b[0m         \u001b[0;32mif\u001b[0m \u001b[0mkwargs\u001b[0m\u001b[0;34m:\u001b[0m\u001b[0;34m\u001b[0m\u001b[0;34m\u001b[0m\u001b[0m\n\u001b[0;32m---> 78\u001b[0;31m             \u001b[0mself\u001b[0m\u001b[0;34m.\u001b[0m\u001b[0mconnect\u001b[0m\u001b[0;34m(\u001b[0m\u001b[0;34m**\u001b[0m\u001b[0mkwargs\u001b[0m\u001b[0;34m)\u001b[0m\u001b[0;34m\u001b[0m\u001b[0;34m\u001b[0m\u001b[0m\n\u001b[0m\u001b[1;32m     79\u001b[0m \u001b[0;34m\u001b[0m\u001b[0m\n\u001b[1;32m     80\u001b[0m     \u001b[0;32mdef\u001b[0m \u001b[0m_do_handshake\u001b[0m\u001b[0;34m(\u001b[0m\u001b[0mself\u001b[0m\u001b[0;34m)\u001b[0m\u001b[0;34m:\u001b[0m\u001b[0;34m\u001b[0m\u001b[0;34m\u001b[0m\u001b[0m\n",
      "\u001b[0;32m/anaconda3/lib/python3.7/site-packages/mysql/connector/abstracts.py\u001b[0m in \u001b[0;36mconnect\u001b[0;34m(self, **kwargs)\u001b[0m\n\u001b[1;32m    733\u001b[0m \u001b[0;34m\u001b[0m\u001b[0m\n\u001b[1;32m    734\u001b[0m         \u001b[0mself\u001b[0m\u001b[0;34m.\u001b[0m\u001b[0mdisconnect\u001b[0m\u001b[0;34m(\u001b[0m\u001b[0;34m)\u001b[0m\u001b[0;34m\u001b[0m\u001b[0;34m\u001b[0m\u001b[0m\n\u001b[0;32m--> 735\u001b[0;31m         \u001b[0mself\u001b[0m\u001b[0;34m.\u001b[0m\u001b[0m_open_connection\u001b[0m\u001b[0;34m(\u001b[0m\u001b[0;34m)\u001b[0m\u001b[0;34m\u001b[0m\u001b[0;34m\u001b[0m\u001b[0m\n\u001b[0m\u001b[1;32m    736\u001b[0m         \u001b[0mself\u001b[0m\u001b[0;34m.\u001b[0m\u001b[0m_post_connection\u001b[0m\u001b[0;34m(\u001b[0m\u001b[0;34m)\u001b[0m\u001b[0;34m\u001b[0m\u001b[0;34m\u001b[0m\u001b[0m\n\u001b[1;32m    737\u001b[0m \u001b[0;34m\u001b[0m\u001b[0m\n",
      "\u001b[0;32m/anaconda3/lib/python3.7/site-packages/mysql/connector/connection_cext.py\u001b[0m in \u001b[0;36m_open_connection\u001b[0;34m(self)\u001b[0m\n\u001b[1;32m    180\u001b[0m         \u001b[0;32mexcept\u001b[0m \u001b[0mMySQLInterfaceError\u001b[0m \u001b[0;32mas\u001b[0m \u001b[0mexc\u001b[0m\u001b[0;34m:\u001b[0m\u001b[0;34m\u001b[0m\u001b[0;34m\u001b[0m\u001b[0m\n\u001b[1;32m    181\u001b[0m             raise errors.get_mysql_exception(msg=exc.msg, errno=exc.errno,\n\u001b[0;32m--> 182\u001b[0;31m                                              sqlstate=exc.sqlstate)\n\u001b[0m\u001b[1;32m    183\u001b[0m         \u001b[0mself\u001b[0m\u001b[0;34m.\u001b[0m\u001b[0m_do_handshake\u001b[0m\u001b[0;34m(\u001b[0m\u001b[0;34m)\u001b[0m\u001b[0;34m\u001b[0m\u001b[0;34m\u001b[0m\u001b[0m\n\u001b[1;32m    184\u001b[0m \u001b[0;34m\u001b[0m\u001b[0m\n",
      "\u001b[0;31mProgrammingError\u001b[0m: 1045 (28000): Access denied for user 'root'@'localhost' (using password: YES)"
     ]
    }
   ],
   "source": [
    "import sys\n",
    "import mysql.connector\n",
    "\n",
    "def myconnect(user, pw):\n",
    "        conn = mysql.connector.connect( host='localhost', database='world',user=user, password=pw)\n",
    "        conn.autocommit = True\n",
    "        return conn   \n",
    "\n",
    "rootconn = myconnect('root','deterentysker!42snapsnap')\n",
    "\n",
    "def sqlQuery(sqlString, conn=rootconn):\n",
    "    try:\n",
    "        cursor = conn.cursor()\n",
    "        cursor.execute(sqlString)\n",
    "        res = cursor.fetchall()\n",
    "        return res\n",
    "    except Exception as ex:\n",
    "        print(str(ex), file=sys.stderr)\n",
    "    finally:    \n",
    "        cursor.close()\n",
    "\n",
    "def sqlDo(sqlString, conn=rootconn):\n",
    "    try:\n",
    "        cursor = conn.cursor()\n",
    "        cursor.execute(sqlString)\n",
    "        res = cursor.fetchwarnings()\n",
    "        return res\n",
    "    except Exception as ex:\n",
    "        print(str(ex), file=sys.stderr)\n",
    "    finally:    \n",
    "        cursor.close()\n",
    "\n",
    "\"Done\"    "
   ]
  },
  {
   "cell_type": "code",
   "execution_count": null,
   "metadata": {},
   "outputs": [],
   "source": [
    "sqlQuery(\"show databases\")"
   ]
  },
  {
   "cell_type": "code",
   "execution_count": null,
   "metadata": {},
   "outputs": [],
   "source": [
    "sqlQuery(\"show tables\")"
   ]
  },
  {
   "cell_type": "code",
   "execution_count": null,
   "metadata": {},
   "outputs": [],
   "source": [
    "sqlQuery(\"explain world.country\")"
   ]
  },
  {
   "cell_type": "code",
   "execution_count": null,
   "metadata": {},
   "outputs": [],
   "source": [
    "sqlQuery(\"SELECT Name, Code FROM country where Continent = 'Antarctica'\")"
   ]
  },
  {
   "cell_type": "markdown",
   "metadata": {},
   "source": [
    "## Add a new schema"
   ]
  },
  {
   "cell_type": "code",
   "execution_count": null,
   "metadata": {},
   "outputs": [],
   "source": [
    "print ( sqlDo(\"CREATE DATABASE AWESOMENESS DEFAULT CHARACTER SET 'utf8'\"))\n",
    "\"Done\""
   ]
  },
  {
   "cell_type": "code",
   "execution_count": null,
   "metadata": {},
   "outputs": [],
   "source": [
    "print( sqlQuery(\"show databases\"))\n",
    "\"Done\""
   ]
  },
  {
   "cell_type": "code",
   "execution_count": null,
   "metadata": {},
   "outputs": [],
   "source": [
    "print( sqlDo(\"drop schema if exists AWESOMENESS\"))\n",
    "\"Done\""
   ]
  },
  {
   "cell_type": "code",
   "execution_count": null,
   "metadata": {},
   "outputs": [],
   "source": [
    "sqlDo(\"drop schema if exists AWESOMENESS\")"
   ]
  },
  {
   "cell_type": "markdown",
   "metadata": {},
   "source": [
    "## Explaining a table"
   ]
  },
  {
   "cell_type": "code",
   "execution_count": null,
   "metadata": {},
   "outputs": [],
   "source": [
    "sqlQuery(\"explain world.country\")"
   ]
  },
  {
   "cell_type": "code",
   "execution_count": null,
   "metadata": {},
   "outputs": [],
   "source": [
    "sqlQuery(\"select Name, GovernmentForm from country where Continent = 'Antarctica'\")"
   ]
  },
  {
   "cell_type": "markdown",
   "metadata": {},
   "source": [
    "# Create a user "
   ]
  },
  {
   "cell_type": "markdown",
   "metadata": {},
   "source": [
    "Create a **secret-service** user who\n",
    "* Can read all world tables\n",
    "* Alter the GovernmentForm column in the country table\n"
   ]
  },
  {
   "cell_type": "code",
   "execution_count": 23,
   "metadata": {},
   "outputs": [],
   "source": [
    "sqlDo(\"DROP USER IF EXISTS SecretService\")"
   ]
  },
  {
   "cell_type": "code",
   "execution_count": 24,
   "metadata": {},
   "outputs": [],
   "source": [
    "sqlDo(\"CREATE USER 'SecretService' IDENTIFIED BY 'destable&corrupt'\")"
   ]
  },
  {
   "cell_type": "code",
   "execution_count": 25,
   "metadata": {},
   "outputs": [
    {
     "data": {
      "text/plain": [
       "[('CensusSurveyer', '%'),\n",
       " ('SecretService', '%'),\n",
       " ('root', '%'),\n",
       " ('softadmin', '%'),\n",
       " ('mysql.infoschema', 'localhost'),\n",
       " ('mysql.session', 'localhost'),\n",
       " ('mysql.sys', 'localhost'),\n",
       " ('root', 'localhost')]"
      ]
     },
     "execution_count": 25,
     "metadata": {},
     "output_type": "execute_result"
    }
   ],
   "source": [
    "sqlQuery(\"select User, Host from mysql.user\")"
   ]
  },
  {
   "cell_type": "code",
   "execution_count": 26,
   "metadata": {},
   "outputs": [
    {
     "data": {
      "text/plain": [
       "[('Host', 'char(60)', 'NO', 'PRI', '', ''),\n",
       " ('User', 'char(32)', 'NO', 'PRI', '', ''),\n",
       " ('Select_priv', \"enum('N','Y')\", 'NO', '', 'N', ''),\n",
       " ('Insert_priv', \"enum('N','Y')\", 'NO', '', 'N', ''),\n",
       " ('Update_priv', \"enum('N','Y')\", 'NO', '', 'N', ''),\n",
       " ('Delete_priv', \"enum('N','Y')\", 'NO', '', 'N', ''),\n",
       " ('Create_priv', \"enum('N','Y')\", 'NO', '', 'N', ''),\n",
       " ('Drop_priv', \"enum('N','Y')\", 'NO', '', 'N', ''),\n",
       " ('Reload_priv', \"enum('N','Y')\", 'NO', '', 'N', ''),\n",
       " ('Shutdown_priv', \"enum('N','Y')\", 'NO', '', 'N', ''),\n",
       " ('Process_priv', \"enum('N','Y')\", 'NO', '', 'N', ''),\n",
       " ('File_priv', \"enum('N','Y')\", 'NO', '', 'N', ''),\n",
       " ('Grant_priv', \"enum('N','Y')\", 'NO', '', 'N', ''),\n",
       " ('References_priv', \"enum('N','Y')\", 'NO', '', 'N', ''),\n",
       " ('Index_priv', \"enum('N','Y')\", 'NO', '', 'N', ''),\n",
       " ('Alter_priv', \"enum('N','Y')\", 'NO', '', 'N', ''),\n",
       " ('Show_db_priv', \"enum('N','Y')\", 'NO', '', 'N', ''),\n",
       " ('Super_priv', \"enum('N','Y')\", 'NO', '', 'N', ''),\n",
       " ('Create_tmp_table_priv', \"enum('N','Y')\", 'NO', '', 'N', ''),\n",
       " ('Lock_tables_priv', \"enum('N','Y')\", 'NO', '', 'N', ''),\n",
       " ('Execute_priv', \"enum('N','Y')\", 'NO', '', 'N', ''),\n",
       " ('Repl_slave_priv', \"enum('N','Y')\", 'NO', '', 'N', ''),\n",
       " ('Repl_client_priv', \"enum('N','Y')\", 'NO', '', 'N', ''),\n",
       " ('Create_view_priv', \"enum('N','Y')\", 'NO', '', 'N', ''),\n",
       " ('Show_view_priv', \"enum('N','Y')\", 'NO', '', 'N', ''),\n",
       " ('Create_routine_priv', \"enum('N','Y')\", 'NO', '', 'N', ''),\n",
       " ('Alter_routine_priv', \"enum('N','Y')\", 'NO', '', 'N', ''),\n",
       " ('Create_user_priv', \"enum('N','Y')\", 'NO', '', 'N', ''),\n",
       " ('Event_priv', \"enum('N','Y')\", 'NO', '', 'N', ''),\n",
       " ('Trigger_priv', \"enum('N','Y')\", 'NO', '', 'N', ''),\n",
       " ('Create_tablespace_priv', \"enum('N','Y')\", 'NO', '', 'N', ''),\n",
       " ('ssl_type', \"enum('','ANY','X509','SPECIFIED')\", 'NO', '', '', ''),\n",
       " ('ssl_cipher', 'blob', 'NO', '', None, ''),\n",
       " ('x509_issuer', 'blob', 'NO', '', None, ''),\n",
       " ('x509_subject', 'blob', 'NO', '', None, ''),\n",
       " ('max_questions', 'int(11) unsigned', 'NO', '', '0', ''),\n",
       " ('max_updates', 'int(11) unsigned', 'NO', '', '0', ''),\n",
       " ('max_connections', 'int(11) unsigned', 'NO', '', '0', ''),\n",
       " ('max_user_connections', 'int(11) unsigned', 'NO', '', '0', ''),\n",
       " ('plugin', 'char(64)', 'NO', '', 'caching_sha2_password', ''),\n",
       " ('authentication_string', 'text', 'YES', '', None, ''),\n",
       " ('password_expired', \"enum('N','Y')\", 'NO', '', 'N', ''),\n",
       " ('password_last_changed', 'timestamp', 'YES', '', None, ''),\n",
       " ('password_lifetime', 'smallint(5) unsigned', 'YES', '', None, ''),\n",
       " ('account_locked', \"enum('N','Y')\", 'NO', '', 'N', ''),\n",
       " ('Create_role_priv', \"enum('N','Y')\", 'NO', '', 'N', ''),\n",
       " ('Drop_role_priv', \"enum('N','Y')\", 'NO', '', 'N', ''),\n",
       " ('Password_reuse_history', 'smallint(5) unsigned', 'YES', '', None, ''),\n",
       " ('Password_reuse_time', 'smallint(5) unsigned', 'YES', '', None, ''),\n",
       " ('Password_require_current', \"enum('N','Y')\", 'YES', '', None, ''),\n",
       " ('User_attributes', 'json', 'YES', '', None, '')]"
      ]
     },
     "execution_count": 26,
     "metadata": {},
     "output_type": "execute_result"
    }
   ],
   "source": [
    "sqlQuery(\"explain mysql.user\")"
   ]
  },
  {
   "cell_type": "markdown",
   "metadata": {},
   "source": [
    "## Permissions\n",
    "\n",
    "One can restrict which permissions a user has using this statement:\n",
    "\n",
    "```sql\n",
    "GRANT Privilege ON my_database.my_table TO the_user@the_host\n",
    "```\n",
    "\n",
    "The following table contains some of the possible values for `Privilege`. The full list is in [the reference manual](https://dev.mysql.com/doc/refman/8.0/en/grant.html).\n",
    "\n",
    "| Privilege | Meaning and Grantable Levels |\n",
    "| ----: | :---- | \n",
    "| ALL [PRIVILEGES] | Grant all privileges at specified access level except GRANT OPTION and PROXY. |\n",
    "| ALTER | Enable use of ALTER TABLE. Levels: Global, database, table. |\n",
    "| CREATE | Enable database and table creation. Levels: Global, database, table. |\n",
    "| CREATE USER | Enable use of CREATE USER, DROP USER, RENAME USER, and REVOKE ALL PRIVILEGES. Level: Global. |\n",
    "| DELETE | Enable use of DELETE. Level: Global, database, table. |\n",
    "| DROP | Enable databases, tables, and views to be dropped. Levels: Global, database, table. |\n",
    "| GRANT OPTION | Enable privileges to be granted to or removed from other accounts. Levels: Global, database, table, routine, proxy. |\n",
    "| INSERT | Enable use of INSERT. Levels: Global, database, table, column. |\n",
    "| SELECT | Enable use of SELECT. Levels: Global, database, table, column. |\n",
    "| SHOW DATABASES | Enable SHOW DATABASES to show all databases. Level: Global. |\n",
    "| UPDATE | Enable use of UPDATE. Levels: Global, database, table, column. |\n",
    "| USAGE | Synonym for “no privileges” |![image.png](attachment:image.png)\n"
   ]
  },
  {
   "cell_type": "code",
   "execution_count": 27,
   "metadata": {},
   "outputs": [
    {
     "data": {
      "text/plain": [
       "[('GRANT USAGE ON *.* TO `SecretService`@`%`',)]"
      ]
     },
     "execution_count": 27,
     "metadata": {},
     "output_type": "execute_result"
    }
   ],
   "source": [
    "sqlQuery(\"SHOW GRANTS FOR SecretService\")"
   ]
  },
  {
   "cell_type": "code",
   "execution_count": 30,
   "metadata": {},
   "outputs": [],
   "source": [
    "secretconn = myconnect('SecretService','destable&corrupt')"
   ]
  },
  {
   "cell_type": "code",
   "execution_count": 29,
   "metadata": {},
   "outputs": [],
   "source": [
    "sqlDo(\"GRANT SELECT ON world.* TO SecretService\")\n",
    "sqlDo(\"FLUSH Privileges\")"
   ]
  },
  {
   "cell_type": "code",
   "execution_count": 32,
   "metadata": {},
   "outputs": [
    {
     "data": {
      "text/plain": [
       "[('CPV', 'Cape Verde', 'Republic'),\n",
       " ('ESH', 'Western Sahara', 'Occupied by Marocco'),\n",
       " ('GNQ', 'Equatorial Guinea', 'Republic'),\n",
       " ('IOT', 'British Indian Ocean Territory', 'Dependent Territory of the UK'),\n",
       " ('MYT', 'Mayotte', 'Territorial Collectivity of France'),\n",
       " ('SHN', 'Saint Helena', 'Dependent Territory of the UK'),\n",
       " ('STP', 'Sao Tome and Principe', 'Republic'),\n",
       " ('SYC', 'Seychelles', 'Republic')]"
      ]
     },
     "execution_count": 32,
     "metadata": {},
     "output_type": "execute_result"
    }
   ],
   "source": [
    "sqlQuery(\"Select Code, Name, GovernmentForm from country where Continent='Africa' and Population<500000\", secretconn)"
   ]
  },
  {
   "cell_type": "code",
   "execution_count": 40,
   "metadata": {},
   "outputs": [
    {
     "data": {
      "text/plain": [
       "[(2453, 'El-Aaiún', 'ESH', 'El-Aaiún', 169000),\n",
       " (4085, 'DessertHideout', 'ESH', 'Sandworms beware', 1200)]"
      ]
     },
     "execution_count": 40,
     "metadata": {},
     "output_type": "execute_result"
    }
   ],
   "source": [
    "sqlQuery(\"Select * from city where CountryCode='ESH'\", secretconn)"
   ]
  },
  {
   "cell_type": "code",
   "execution_count": 35,
   "metadata": {},
   "outputs": [],
   "source": [
    "sqlDo(\"DELETE FROM city WHERE Name = 'DessertHideout'\")"
   ]
  },
  {
   "cell_type": "code",
   "execution_count": 39,
   "metadata": {
    "scrolled": true
   },
   "outputs": [],
   "source": [
    "sqlDo(\"\"\"\n",
    "INSERT INTO city (Name, CountryCode,District,Population) \n",
    "    VALUES ('DessertHideout', 'ESH', 'Sandworms beware', 1200)\n",
    "\"\"\",secretconn)"
   ]
  },
  {
   "cell_type": "code",
   "execution_count": 38,
   "metadata": {},
   "outputs": [],
   "source": [
    "sqlDo(\"GRANT UPDATE, INSERT  ON world.city TO SecretService; flush privileges\")"
   ]
  },
  {
   "cell_type": "markdown",
   "metadata": {},
   "source": [
    "## Create one user more\n",
    "\n",
    "Create censusSurveyer (person who counts inhabitants). \n",
    "\n",
    "* This person should be able to read the world database\n",
    "* **Update the population columns of city and courntry, but nothing else**"
   ]
  },
  {
   "cell_type": "code",
   "execution_count": 44,
   "metadata": {},
   "outputs": [],
   "source": [
    "sqlDo(\"DROP USER IF EXISTS CensusSurveyer\")"
   ]
  },
  {
   "cell_type": "code",
   "execution_count": 45,
   "metadata": {},
   "outputs": [],
   "source": [
    "sqlDo(\"CREATE USER 'CensusSurveyer' IDENTIFIED BY 'count#66behappy'\")"
   ]
  },
  {
   "cell_type": "code",
   "execution_count": 46,
   "metadata": {},
   "outputs": [],
   "source": [
    "sqlDo(\"GRANT SELECT ON world.* TO CensusSurveyer\")\n",
    "sqlDo(\"FLUSH Privileges\")"
   ]
  },
  {
   "cell_type": "code",
   "execution_count": 47,
   "metadata": {},
   "outputs": [
    {
     "data": {
      "text/plain": [
       "[('CensusSurveyer', '%'),\n",
       " ('SecretService', '%'),\n",
       " ('root', '%'),\n",
       " ('softadmin', '%'),\n",
       " ('mysql.infoschema', 'localhost'),\n",
       " ('mysql.session', 'localhost'),\n",
       " ('mysql.sys', 'localhost'),\n",
       " ('root', 'localhost')]"
      ]
     },
     "execution_count": 47,
     "metadata": {},
     "output_type": "execute_result"
    }
   ],
   "source": [
    "sqlQuery(\"select User, Host from mysql.user\")"
   ]
  },
  {
   "cell_type": "code",
   "execution_count": 52,
   "metadata": {},
   "outputs": [
    {
     "data": {
      "text/plain": [
       "[('GRANT USAGE ON *.* TO `CensusSurveyer`@`%`',),\n",
       " ('GRANT SELECT ON `world`.* TO `CensusSurveyer`@`%`',),\n",
       " ('GRANT UPDATE (`Population`) ON `world`.`city` TO `CensusSurveyer`@`%`',)]"
      ]
     },
     "execution_count": 52,
     "metadata": {},
     "output_type": "execute_result"
    }
   ],
   "source": [
    "sqlQuery(\"SHOW GRANTS FOR CensusSurveyer\")"
   ]
  },
  {
   "cell_type": "code",
   "execution_count": 49,
   "metadata": {},
   "outputs": [],
   "source": [
    "censusconn = myconnect('CensusSurveyer','count#66behappy')"
   ]
  },
  {
   "cell_type": "code",
   "execution_count": 54,
   "metadata": {},
   "outputs": [
    {
     "data": {
      "text/plain": [
       "[(1024, 'Mumbai (Bombay)', 'IND', 'Maharashtra', 10501300),\n",
       " (2331, 'Seoul', 'KOR', 'Seoul', 9981619),\n",
       " (206, 'São Paulo', 'BRA', 'São Paulo', 9968485),\n",
       " (1890, 'Shanghai', 'CHN', 'Shanghai', 9696300),\n",
       " (939, 'Jakarta', 'IDN', 'Jakarta Raya', 9604900),\n",
       " (2822, 'Karachi', 'PAK', 'Sindh', 9269265),\n",
       " (3357, 'Istanbul', 'TUR', 'Istanbul', 8787958),\n",
       " (2515, 'Ciudad de México', 'MEX', 'Distrito Federal', 8591309),\n",
       " (3580, 'Moscow', 'RUS', 'Moscow (City)', 8389200),\n",
       " (3793, 'New York', 'USA', 'New York', 8008278)]"
      ]
     },
     "execution_count": 54,
     "metadata": {},
     "output_type": "execute_result"
    }
   ],
   "source": [
    "query = \"\"\"\n",
    "SELECT * \n",
    "FROM city \n",
    "ORDER BY Population DESC\n",
    "LIMIT 10;\n",
    "\"\"\"\n",
    "sqlQuery( query,  censusconn)"
   ]
  },
  {
   "cell_type": "code",
   "execution_count": 51,
   "metadata": {},
   "outputs": [],
   "source": [
    "sqlDo(\"GRANT UPDATE (Population) ON world.city TO CensusSurveyer\");\n",
    "sqlDo(\"FLUSH Privileges\")"
   ]
  },
  {
   "cell_type": "code",
   "execution_count": 53,
   "metadata": {},
   "outputs": [],
   "source": [
    "sqlDo(\"UPDATE city SET Population = Population + 1000 WHERE ID=1024\",censusconn)"
   ]
  },
  {
   "cell_type": "code",
   "execution_count": null,
   "metadata": {},
   "outputs": [],
   "source": [
    "sqlDo(\"UPDATE country SET Population = Population + 1000000 WHERE Code='IND'\", censusconn)"
   ]
  },
  {
   "cell_type": "code",
   "execution_count": 55,
   "metadata": {},
   "outputs": [
    {
     "name": "stderr",
     "output_type": "stream",
     "text": [
      "1143 (42000): UPDATE command denied to user 'CensusSurveyer'@'172.17.0.1' for column 'Name' in table 'city'\n"
     ]
    }
   ],
   "source": [
    "sqlDo(\"UPDATE city SET Name = 'Москва' WHERE ID=3580\",censusconn)"
   ]
  },
  {
   "cell_type": "markdown",
   "metadata": {},
   "source": [
    "### Limiting actions by host\n",
    "\n",
    "It is possible to grant different permissions depending on from which machine a user is logged in.\n",
    "\n",
    "There are (at least) three useful scenarios for this:\n",
    "\n",
    "* Restricting admin users (and in particularly root) to 'localhost'\n",
    "* Restricting other users to 'localhost', so only users running on the same machine as the DB can access the DB\n",
    "* Restricting users to a specific set of hosts - so only access from those hosts are valid. Think: DB on one machine and webapps on an other."
   ]
  },
  {
   "cell_type": "markdown",
   "metadata": {},
   "source": [
    "## Logs\n",
    "They serve several roles in serious database maintenance\n",
    "* Documents all log-ins, and from where\n",
    "* Documents all queries, for debugging purposes\n",
    "* Documents performance issues\n",
    "\n",
    "Besides, the logs play a role in hard recovery of crashed databases"
   ]
  },
  {
   "cell_type": "code",
   "execution_count": null,
   "metadata": {},
   "outputs": [],
   "source": [
    "sqlDo(\"SET global general_log = 1; SET global log_output = 'table'\")"
   ]
  },
  {
   "cell_type": "code",
   "execution_count": 59,
   "metadata": {},
   "outputs": [
    {
     "data": {
      "text/plain": [
       "[('event_time',\n",
       "  'timestamp(6)',\n",
       "  'NO',\n",
       "  '',\n",
       "  'CURRENT_TIMESTAMP(6)',\n",
       "  'DEFAULT_GENERATED on update CURRENT_TIMESTAMP(6)'),\n",
       " ('user_host', 'mediumtext', 'NO', '', None, ''),\n",
       " ('thread_id', 'bigint(21) unsigned', 'NO', '', None, ''),\n",
       " ('server_id', 'int(10) unsigned', 'NO', '', None, ''),\n",
       " ('command_type', 'varchar(64)', 'NO', '', None, ''),\n",
       " ('argument', 'mediumblob', 'NO', '', None, '')]"
      ]
     },
     "execution_count": 59,
     "metadata": {},
     "output_type": "execute_result"
    }
   ],
   "source": [
    "sqlQuery(\"Explain mysql.general_log\")"
   ]
  },
  {
   "cell_type": "code",
   "execution_count": 60,
   "metadata": {},
   "outputs": [
    {
     "data": {
      "text/plain": [
       "[('16:06:25', 'root[root] @  [172.17.0.1]', 'Quit', ''),\n",
       " ('16:06:25', 'CensusSurveyer[CensusSurveyer] @  [172.17.0.1]', 'Quit', ''),\n",
       " ('16:06:25', 'root[root] @  [172.17.0.1]', 'Quit', ''),\n",
       " ('16:06:25', 'SecretService[SecretService] @  [172.17.0.1]', 'Quit', ''),\n",
       " ('16:06:11', 'root[root] @  [172.17.0.1]', 'Quit', ''),\n",
       " ('16:06:11', 'root[root] @  [172.17.0.1]', 'Quit', ''),\n",
       " ('16:01:42',\n",
       "  'root[root] @  [172.17.0.1]',\n",
       "  'Query',\n",
       "  \"SELECT DATE_FORMAT(event_time,'%H:%i:%s')as time, user_host,  command_type, argument \\nFROM mysql.general_log\\nWHERE command_type <>'Query'\\nORDER BY time DESC\\nLIMIT 15\"),\n",
       " ('16:01:17',\n",
       "  'root[root] @  [172.17.0.1]',\n",
       "  'Query',\n",
       "  \"SELECT DATE_FORMAT(event_time,'%H:%i:%s')as time, \\n    REGEXP_SUBSTR(user_host, '[^ @]+') as user,  command_type, argument \\nFROM mysql.general_log\\nWHERE command_type <>'Query'\\nORDER BY time DESC\\nLIMIT 15\"),\n",
       " ('16:00:40',\n",
       "  'root[root] @  [172.17.0.1]',\n",
       "  'Query',\n",
       "  \"SELECT DATE_FORMAT(event_time,'%H:%i:%s')as time, \\n    REGEXP_SUBSTR(user_host, '[^ @]+') as user,  command_type, argument \\nFROM mysql.general_log\\nORDER BY time DESC\\nLIMIT 15\"),\n",
       " ('15:59:30',\n",
       "  'root[root] @  [172.17.0.1]',\n",
       "  'Query',\n",
       "  \"SELECT DATE_FORMAT(event_time,'%H:%i:%s')as time, \\n    REGEXP_SUBSTR(user_host, '[^ @]+') as user,  argument \\nFROM mysql.general_log\\nORDER BY time DESC\\nLIMIT 10\")]"
      ]
     },
     "execution_count": 60,
     "metadata": {},
     "output_type": "execute_result"
    }
   ],
   "source": [
    "sqlQuery(\"\"\"\n",
    "SELECT DATE_FORMAT(event_time,'%H:%i:%s')as time, user_host, command_type, argument \n",
    "FROM mysql.general_log\n",
    "ORDER BY time DESC\n",
    "LIMIT 10\n",
    "\"\"\")"
   ]
  },
  {
   "cell_type": "code",
   "execution_count": 61,
   "metadata": {},
   "outputs": [
    {
     "data": {
      "text/plain": [
       "[('16:06:25', 'root[root] @  [172.17.0.1]', 'Quit', ''),\n",
       " ('16:06:25', 'CensusSurveyer[CensusSurveyer] @  [172.17.0.1]', 'Quit', ''),\n",
       " ('16:06:25', 'root[root] @  [172.17.0.1]', 'Quit', ''),\n",
       " ('16:06:25', 'SecretService[SecretService] @  [172.17.0.1]', 'Quit', ''),\n",
       " ('16:06:11', 'root[root] @  [172.17.0.1]', 'Quit', ''),\n",
       " ('16:06:11', 'root[root] @  [172.17.0.1]', 'Quit', ''),\n",
       " ('15:54:42', 'CensusSurveyer[CensusSurveyer] @  [172.17.0.1]', 'Quit', ''),\n",
       " ('15:54:42',\n",
       "  '[CensusSurveyer] @  [172.17.0.1]',\n",
       "  'Connect',\n",
       "  'CensusSurveyer@172.17.0.1 on world using SSL/TLS'),\n",
       " ('15:23:54', 'root[root] @  [172.17.0.1]', 'Quit', ''),\n",
       " ('15:23:54', 'root[root] @  [172.17.0.1]', 'Quit', ''),\n",
       " ('15:21:15',\n",
       "  '[root] @  [172.17.0.1]',\n",
       "  'Connect',\n",
       "  'root@172.17.0.1 on  using SSL/TLS'),\n",
       " ('15:21:15',\n",
       "  '[root] @  [172.17.0.1]',\n",
       "  'Connect',\n",
       "  'root@172.17.0.1 on  using SSL/TLS'),\n",
       " ('15:21:08', 'root[root] @  [172.17.0.1]', 'Quit', ''),\n",
       " ('15:21:08', 'root[root] @  [172.17.0.1]', 'Quit', ''),\n",
       " ('15:20:38',\n",
       "  '[root] @  [172.17.0.1]',\n",
       "  'Connect',\n",
       "  'root@172.17.0.1 on  using SSL/TLS')]"
      ]
     },
     "execution_count": 61,
     "metadata": {},
     "output_type": "execute_result"
    }
   ],
   "source": [
    "sqlQuery(\"\"\"\n",
    "SELECT DATE_FORMAT(event_time,'%H:%i:%s')as time, user_host,  command_type, argument \n",
    "FROM mysql.general_log\n",
    "WHERE command_type <>'Query'\n",
    "ORDER BY time DESC\n",
    "LIMIT 15\n",
    "\"\"\")"
   ]
  },
  {
   "cell_type": "code",
   "execution_count": 62,
   "metadata": {},
   "outputs": [
    {
     "data": {
      "text/plain": [
       "[('columns_priv',),\n",
       " ('component',),\n",
       " ('db',),\n",
       " ('default_roles',),\n",
       " ('engine_cost',),\n",
       " ('func',),\n",
       " ('general_log',),\n",
       " ('global_grants',),\n",
       " ('gtid_executed',),\n",
       " ('help_category',),\n",
       " ('help_keyword',),\n",
       " ('help_relation',),\n",
       " ('help_topic',),\n",
       " ('innodb_index_stats',),\n",
       " ('innodb_table_stats',),\n",
       " ('password_history',),\n",
       " ('plugin',),\n",
       " ('procs_priv',),\n",
       " ('proxies_priv',),\n",
       " ('role_edges',),\n",
       " ('server_cost',),\n",
       " ('servers',),\n",
       " ('slave_master_info',),\n",
       " ('slave_relay_log_info',),\n",
       " ('slave_worker_info',),\n",
       " ('slow_log',),\n",
       " ('tables_priv',),\n",
       " ('time_zone',),\n",
       " ('time_zone_leap_second',),\n",
       " ('time_zone_name',),\n",
       " ('time_zone_transition',),\n",
       " ('time_zone_transition_type',),\n",
       " ('user',)]"
      ]
     },
     "execution_count": 62,
     "metadata": {},
     "output_type": "execute_result"
    }
   ],
   "source": [
    "sqlQuery(\"show tables in mysql\")"
   ]
  },
  {
   "cell_type": "code",
   "execution_count": null,
   "metadata": {},
   "outputs": [],
   "source": [
    "sqlQuery(\"show schemas\")"
   ]
  },
  {
   "cell_type": "markdown",
   "metadata": {},
   "source": [
    "## Backup & restore\n",
    "\n",
    "The final aspect of security is to be able to recover from a break-down or a hack.\n",
    "\n",
    "The literature mentions a couple of good concepts which are worth noticing:\n",
    "\n",
    "* **Physical vs. Logical backup**. Do you backup \"all the files of the DB\" (Physical), or do you create a (number of) sql files which can be run to restore the database (Logical).\n",
    "* **Online Versus Offline Backups**. Online backups take place while the MySQL server is running so that the database information can be obtained from the server. Offline backups take place while the server is stopped.\n",
    "* **Local Versus Remote Backups**. A local backup is performed on the same host where the MySQL server runs, whereas a remote backup is done from a different host.\n",
    "* **Full Versus Incremental Backups**. A full backup includes all data managed by a MySQL server at a given point in time. An incremental backup consists of the changes made to the data during a given time span.\n"
   ]
  },
  {
   "cell_type": "markdown",
   "metadata": {},
   "source": [
    "### full local online logical backup\n",
    "\n",
    "mysql has a special program named `mysqldump` which can do several of the combinations mentioned above. \n",
    "\n",
    "The idea is to backup as: `bash> mysqldump --all-databases > dump.sql`.\n",
    "\n",
    "Restore can then be done as: `bash> mysql < dump.sql`.\n",
    "\n"
   ]
  },
  {
   "cell_type": "markdown",
   "metadata": {},
   "source": [
    "### Storing the backup outside the docker container\n",
    "I want the backup to end up on my host, not inside the filesystem of the docker container.\n",
    "\n",
    "We are free to chose where to put it. Inside the container I will store to a directory `/mnt/host`, and map that to `$(pwd)/mysql_dump`. \n"
   ]
  },
  {
   "cell_type": "code",
   "execution_count": 63,
   "metadata": {},
   "outputs": [
    {
     "name": "stdout",
     "output_type": "stream",
     "text": [
      "my_mysql\n",
      "my_mysql\n",
      "CONTAINER ID        IMAGE               COMMAND                  CREATED             STATUS              PORTS                      NAMES\n",
      "cc884c1600a3        mongo:latest        \"docker-entrypoint.s…\"   9 days ago          Up 9 days           0.0.0.0:27017->27017/tcp   mymongo\n"
     ]
    }
   ],
   "source": [
    "%%bash\n",
    "docker kill my_mysql\n",
    "docker rm my_mysql\n",
    "docker container ls -a"
   ]
  },
  {
   "cell_type": "code",
   "execution_count": 64,
   "metadata": {},
   "outputs": [
    {
     "name": "stdout",
     "output_type": "stream",
     "text": [
      "edd1c8cab28fee3ec2105135379563cab745cfa8d9ff56350db5c2fdd7ccb5fd\n",
      "Back online\n"
     ]
    }
   ],
   "source": [
    "%%bash\n",
    "docker run \\\n",
    "--name my_mysql \\\n",
    "-v $(pwd)/mysql_databasefiles:/var/lib/mysql \\\n",
    "-v $(pwd)/mysql_dump:/tmp \\\n",
    "-p 3306:3306 \\\n",
    "-e MYSQL_ROOT_PASSWORD=deterentysker!42snapsnap \\\n",
    "-d \\\n",
    "mysql\n",
    "echo \"Back online\""
   ]
  },
  {
   "cell_type": "code",
   "execution_count": 65,
   "metadata": {},
   "outputs": [
    {
     "name": "stdout",
     "output_type": "stream",
     "text": [
      "db597c7c17ba866a46920bb0211748f548100e2e0d4b1537d1097e16671edd57\n",
      "Back online also\n"
     ]
    }
   ],
   "source": [
    "%%bash\n",
    "docker run \\\n",
    "--name my_mysql2 \\\n",
    "-v $(pwd)/mysql_dump:/tmp \\\n",
    "-e MYSQL_ROOT_PASSWORD=bla_open_now \\\n",
    "-d \\\n",
    "mysql\n",
    "echo \"Back online also\""
   ]
  }
 ],
 "metadata": {
  "kernelspec": {
   "display_name": "Python 3",
   "language": "python",
   "name": "python3"
  },
  "language_info": {
   "codemirror_mode": {
    "name": "ipython",
    "version": 3
   },
   "file_extension": ".py",
   "mimetype": "text/x-python",
   "name": "python",
   "nbconvert_exporter": "python",
   "pygments_lexer": "ipython3",
   "version": "3.7.1"
  }
 },
 "nbformat": 4,
 "nbformat_minor": 2
}
